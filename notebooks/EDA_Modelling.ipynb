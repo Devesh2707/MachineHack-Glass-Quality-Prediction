{
 "cells": [
  {
   "cell_type": "code",
   "execution_count": 1,
   "metadata": {},
   "outputs": [],
   "source": [
    "import pandas as pd\n",
    "import numpy as np\n",
    "import matplotlib.pyplot as plt\n",
    "import seaborn as sns\n",
    "\n",
    "plt.style.use('fivethirtyeight')"
   ]
  },
  {
   "cell_type": "code",
   "execution_count": 2,
   "metadata": {},
   "outputs": [],
   "source": [
    "data = pd.read_csv('Train.csv')"
   ]
  },
  {
   "cell_type": "code",
   "execution_count": 3,
   "metadata": {},
   "outputs": [
    {
     "data": {
      "text/html": [
       "<div>\n",
       "<style scoped>\n",
       "    .dataframe tbody tr th:only-of-type {\n",
       "        vertical-align: middle;\n",
       "    }\n",
       "\n",
       "    .dataframe tbody tr th {\n",
       "        vertical-align: top;\n",
       "    }\n",
       "\n",
       "    .dataframe thead th {\n",
       "        text-align: right;\n",
       "    }\n",
       "</style>\n",
       "<table border=\"1\" class=\"dataframe\">\n",
       "  <thead>\n",
       "    <tr style=\"text-align: right;\">\n",
       "      <th></th>\n",
       "      <th>grade_A_Component_1</th>\n",
       "      <th>grade_A_Component_2</th>\n",
       "      <th>max_luminosity</th>\n",
       "      <th>thickness</th>\n",
       "      <th>xmin</th>\n",
       "      <th>xmax</th>\n",
       "      <th>ymin</th>\n",
       "      <th>ymax</th>\n",
       "      <th>pixel_area</th>\n",
       "      <th>log_area</th>\n",
       "      <th>x_component_1</th>\n",
       "      <th>x_component_2</th>\n",
       "      <th>x_component_3</th>\n",
       "      <th>x_component_4</th>\n",
       "      <th>x_component_5</th>\n",
       "      <th>class</th>\n",
       "    </tr>\n",
       "  </thead>\n",
       "  <tbody>\n",
       "    <tr>\n",
       "      <th>0</th>\n",
       "      <td>0</td>\n",
       "      <td>1</td>\n",
       "      <td>150</td>\n",
       "      <td>36</td>\n",
       "      <td>144</td>\n",
       "      <td>172</td>\n",
       "      <td>947225</td>\n",
       "      <td>947332</td>\n",
       "      <td>439</td>\n",
       "      <td>439.099273</td>\n",
       "      <td>0</td>\n",
       "      <td>0</td>\n",
       "      <td>1</td>\n",
       "      <td>0</td>\n",
       "      <td>0</td>\n",
       "      <td>1</td>\n",
       "    </tr>\n",
       "    <tr>\n",
       "      <th>1</th>\n",
       "      <td>1</td>\n",
       "      <td>0</td>\n",
       "      <td>134</td>\n",
       "      <td>55</td>\n",
       "      <td>1144</td>\n",
       "      <td>1152</td>\n",
       "      <td>2379058</td>\n",
       "      <td>2379624</td>\n",
       "      <td>329</td>\n",
       "      <td>329.205616</td>\n",
       "      <td>1</td>\n",
       "      <td>0</td>\n",
       "      <td>0</td>\n",
       "      <td>0</td>\n",
       "      <td>0</td>\n",
       "      <td>1</td>\n",
       "    </tr>\n",
       "    <tr>\n",
       "      <th>2</th>\n",
       "      <td>1</td>\n",
       "      <td>0</td>\n",
       "      <td>135</td>\n",
       "      <td>65</td>\n",
       "      <td>950</td>\n",
       "      <td>974</td>\n",
       "      <td>1038442</td>\n",
       "      <td>1036754</td>\n",
       "      <td>300</td>\n",
       "      <td>300.120598</td>\n",
       "      <td>0</td>\n",
       "      <td>0</td>\n",
       "      <td>0</td>\n",
       "      <td>0</td>\n",
       "      <td>0</td>\n",
       "      <td>2</td>\n",
       "    </tr>\n",
       "    <tr>\n",
       "      <th>3</th>\n",
       "      <td>0</td>\n",
       "      <td>1</td>\n",
       "      <td>123</td>\n",
       "      <td>35</td>\n",
       "      <td>41</td>\n",
       "      <td>220</td>\n",
       "      <td>1705580</td>\n",
       "      <td>1705604</td>\n",
       "      <td>6803</td>\n",
       "      <td>6803.778622</td>\n",
       "      <td>0</td>\n",
       "      <td>0</td>\n",
       "      <td>1</td>\n",
       "      <td>0</td>\n",
       "      <td>0</td>\n",
       "      <td>1</td>\n",
       "    </tr>\n",
       "    <tr>\n",
       "      <th>4</th>\n",
       "      <td>1</td>\n",
       "      <td>0</td>\n",
       "      <td>138</td>\n",
       "      <td>69</td>\n",
       "      <td>462</td>\n",
       "      <td>466</td>\n",
       "      <td>1088124</td>\n",
       "      <td>1086579</td>\n",
       "      <td>251</td>\n",
       "      <td>251.401943</td>\n",
       "      <td>0</td>\n",
       "      <td>0</td>\n",
       "      <td>0</td>\n",
       "      <td>0</td>\n",
       "      <td>0</td>\n",
       "      <td>2</td>\n",
       "    </tr>\n",
       "    <tr>\n",
       "      <th>5</th>\n",
       "      <td>1</td>\n",
       "      <td>0</td>\n",
       "      <td>127</td>\n",
       "      <td>72</td>\n",
       "      <td>246</td>\n",
       "      <td>256</td>\n",
       "      <td>1137516</td>\n",
       "      <td>1136929</td>\n",
       "      <td>177</td>\n",
       "      <td>177.184821</td>\n",
       "      <td>0</td>\n",
       "      <td>1</td>\n",
       "      <td>0</td>\n",
       "      <td>0</td>\n",
       "      <td>0</td>\n",
       "      <td>1</td>\n",
       "    </tr>\n",
       "    <tr>\n",
       "      <th>6</th>\n",
       "      <td>0</td>\n",
       "      <td>1</td>\n",
       "      <td>99</td>\n",
       "      <td>39</td>\n",
       "      <td>242</td>\n",
       "      <td>359</td>\n",
       "      <td>87212</td>\n",
       "      <td>87169</td>\n",
       "      <td>3369</td>\n",
       "      <td>3369.037497</td>\n",
       "      <td>0</td>\n",
       "      <td>0</td>\n",
       "      <td>1</td>\n",
       "      <td>0</td>\n",
       "      <td>0</td>\n",
       "      <td>1</td>\n",
       "    </tr>\n",
       "    <tr>\n",
       "      <th>7</th>\n",
       "      <td>0</td>\n",
       "      <td>1</td>\n",
       "      <td>136</td>\n",
       "      <td>38</td>\n",
       "      <td>48</td>\n",
       "      <td>202</td>\n",
       "      <td>697615</td>\n",
       "      <td>696534</td>\n",
       "      <td>6159</td>\n",
       "      <td>6159.902918</td>\n",
       "      <td>0</td>\n",
       "      <td>0</td>\n",
       "      <td>1</td>\n",
       "      <td>0</td>\n",
       "      <td>0</td>\n",
       "      <td>1</td>\n",
       "    </tr>\n",
       "    <tr>\n",
       "      <th>8</th>\n",
       "      <td>0</td>\n",
       "      <td>1</td>\n",
       "      <td>121</td>\n",
       "      <td>43</td>\n",
       "      <td>42</td>\n",
       "      <td>214</td>\n",
       "      <td>4401789</td>\n",
       "      <td>4401986</td>\n",
       "      <td>5667</td>\n",
       "      <td>5667.675157</td>\n",
       "      <td>0</td>\n",
       "      <td>0</td>\n",
       "      <td>1</td>\n",
       "      <td>0</td>\n",
       "      <td>0</td>\n",
       "      <td>1</td>\n",
       "    </tr>\n",
       "    <tr>\n",
       "      <th>9</th>\n",
       "      <td>1</td>\n",
       "      <td>0</td>\n",
       "      <td>115</td>\n",
       "      <td>99</td>\n",
       "      <td>1289</td>\n",
       "      <td>1304</td>\n",
       "      <td>1005611</td>\n",
       "      <td>1006124</td>\n",
       "      <td>281</td>\n",
       "      <td>281.072866</td>\n",
       "      <td>1</td>\n",
       "      <td>0</td>\n",
       "      <td>0</td>\n",
       "      <td>0</td>\n",
       "      <td>0</td>\n",
       "      <td>1</td>\n",
       "    </tr>\n",
       "  </tbody>\n",
       "</table>\n",
       "</div>"
      ],
      "text/plain": [
       "   grade_A_Component_1  grade_A_Component_2  max_luminosity  thickness  xmin  \\\n",
       "0                    0                    1             150         36   144   \n",
       "1                    1                    0             134         55  1144   \n",
       "2                    1                    0             135         65   950   \n",
       "3                    0                    1             123         35    41   \n",
       "4                    1                    0             138         69   462   \n",
       "5                    1                    0             127         72   246   \n",
       "6                    0                    1              99         39   242   \n",
       "7                    0                    1             136         38    48   \n",
       "8                    0                    1             121         43    42   \n",
       "9                    1                    0             115         99  1289   \n",
       "\n",
       "   xmax     ymin     ymax  pixel_area     log_area  x_component_1  \\\n",
       "0   172   947225   947332         439   439.099273              0   \n",
       "1  1152  2379058  2379624         329   329.205616              1   \n",
       "2   974  1038442  1036754         300   300.120598              0   \n",
       "3   220  1705580  1705604        6803  6803.778622              0   \n",
       "4   466  1088124  1086579         251   251.401943              0   \n",
       "5   256  1137516  1136929         177   177.184821              0   \n",
       "6   359    87212    87169        3369  3369.037497              0   \n",
       "7   202   697615   696534        6159  6159.902918              0   \n",
       "8   214  4401789  4401986        5667  5667.675157              0   \n",
       "9  1304  1005611  1006124         281   281.072866              1   \n",
       "\n",
       "   x_component_2  x_component_3  x_component_4  x_component_5  class  \n",
       "0              0              1              0              0      1  \n",
       "1              0              0              0              0      1  \n",
       "2              0              0              0              0      2  \n",
       "3              0              1              0              0      1  \n",
       "4              0              0              0              0      2  \n",
       "5              1              0              0              0      1  \n",
       "6              0              1              0              0      1  \n",
       "7              0              1              0              0      1  \n",
       "8              0              1              0              0      1  \n",
       "9              0              0              0              0      1  "
      ]
     },
     "execution_count": 3,
     "metadata": {},
     "output_type": "execute_result"
    }
   ],
   "source": [
    "data.head(10)"
   ]
  },
  {
   "cell_type": "code",
   "execution_count": 4,
   "metadata": {},
   "outputs": [
    {
     "data": {
      "text/plain": [
       "(1358, 16)"
      ]
     },
     "execution_count": 4,
     "metadata": {},
     "output_type": "execute_result"
    }
   ],
   "source": [
    "data.shape"
   ]
  },
  {
   "cell_type": "code",
   "execution_count": 6,
   "metadata": {},
   "outputs": [],
   "source": [
    "class_1 = data.loc[data['class'] == 1]\n",
    "class_2 = data.loc[data['class'] == 2]"
   ]
  },
  {
   "cell_type": "code",
   "execution_count": 8,
   "metadata": {},
   "outputs": [
    {
     "data": {
      "text/html": [
       "<div>\n",
       "<style scoped>\n",
       "    .dataframe tbody tr th:only-of-type {\n",
       "        vertical-align: middle;\n",
       "    }\n",
       "\n",
       "    .dataframe tbody tr th {\n",
       "        vertical-align: top;\n",
       "    }\n",
       "\n",
       "    .dataframe thead th {\n",
       "        text-align: right;\n",
       "    }\n",
       "</style>\n",
       "<table border=\"1\" class=\"dataframe\">\n",
       "  <thead>\n",
       "    <tr style=\"text-align: right;\">\n",
       "      <th></th>\n",
       "      <th>grade_A_Component_1</th>\n",
       "      <th>grade_A_Component_2</th>\n",
       "      <th>max_luminosity</th>\n",
       "      <th>thickness</th>\n",
       "      <th>xmin</th>\n",
       "      <th>xmax</th>\n",
       "      <th>ymin</th>\n",
       "      <th>ymax</th>\n",
       "      <th>pixel_area</th>\n",
       "      <th>log_area</th>\n",
       "      <th>x_component_1</th>\n",
       "      <th>x_component_2</th>\n",
       "      <th>x_component_3</th>\n",
       "      <th>x_component_4</th>\n",
       "      <th>x_component_5</th>\n",
       "      <th>class</th>\n",
       "    </tr>\n",
       "  </thead>\n",
       "  <tbody>\n",
       "    <tr>\n",
       "      <th>2</th>\n",
       "      <td>1</td>\n",
       "      <td>0</td>\n",
       "      <td>135</td>\n",
       "      <td>65</td>\n",
       "      <td>950</td>\n",
       "      <td>974</td>\n",
       "      <td>1038442</td>\n",
       "      <td>1036754</td>\n",
       "      <td>300</td>\n",
       "      <td>300.120598</td>\n",
       "      <td>0</td>\n",
       "      <td>0</td>\n",
       "      <td>0</td>\n",
       "      <td>0</td>\n",
       "      <td>0</td>\n",
       "      <td>2</td>\n",
       "    </tr>\n",
       "    <tr>\n",
       "      <th>4</th>\n",
       "      <td>1</td>\n",
       "      <td>0</td>\n",
       "      <td>138</td>\n",
       "      <td>69</td>\n",
       "      <td>462</td>\n",
       "      <td>466</td>\n",
       "      <td>1088124</td>\n",
       "      <td>1086579</td>\n",
       "      <td>251</td>\n",
       "      <td>251.401943</td>\n",
       "      <td>0</td>\n",
       "      <td>0</td>\n",
       "      <td>0</td>\n",
       "      <td>0</td>\n",
       "      <td>0</td>\n",
       "      <td>2</td>\n",
       "    </tr>\n",
       "    <tr>\n",
       "      <th>11</th>\n",
       "      <td>0</td>\n",
       "      <td>1</td>\n",
       "      <td>135</td>\n",
       "      <td>36</td>\n",
       "      <td>806</td>\n",
       "      <td>831</td>\n",
       "      <td>299775</td>\n",
       "      <td>301108</td>\n",
       "      <td>264</td>\n",
       "      <td>264.389126</td>\n",
       "      <td>0</td>\n",
       "      <td>0</td>\n",
       "      <td>0</td>\n",
       "      <td>0</td>\n",
       "      <td>0</td>\n",
       "      <td>2</td>\n",
       "    </tr>\n",
       "    <tr>\n",
       "      <th>18</th>\n",
       "      <td>0</td>\n",
       "      <td>1</td>\n",
       "      <td>131</td>\n",
       "      <td>61</td>\n",
       "      <td>751</td>\n",
       "      <td>760</td>\n",
       "      <td>948223</td>\n",
       "      <td>949021</td>\n",
       "      <td>176</td>\n",
       "      <td>176.516962</td>\n",
       "      <td>0</td>\n",
       "      <td>0</td>\n",
       "      <td>0</td>\n",
       "      <td>0</td>\n",
       "      <td>0</td>\n",
       "      <td>2</td>\n",
       "    </tr>\n",
       "    <tr>\n",
       "      <th>23</th>\n",
       "      <td>0</td>\n",
       "      <td>1</td>\n",
       "      <td>138</td>\n",
       "      <td>35</td>\n",
       "      <td>26</td>\n",
       "      <td>45</td>\n",
       "      <td>3063581</td>\n",
       "      <td>3063303</td>\n",
       "      <td>466</td>\n",
       "      <td>466.998162</td>\n",
       "      <td>0</td>\n",
       "      <td>0</td>\n",
       "      <td>0</td>\n",
       "      <td>0</td>\n",
       "      <td>0</td>\n",
       "      <td>2</td>\n",
       "    </tr>\n",
       "  </tbody>\n",
       "</table>\n",
       "</div>"
      ],
      "text/plain": [
       "    grade_A_Component_1  grade_A_Component_2  max_luminosity  thickness  xmin  \\\n",
       "2                     1                    0             135         65   950   \n",
       "4                     1                    0             138         69   462   \n",
       "11                    0                    1             135         36   806   \n",
       "18                    0                    1             131         61   751   \n",
       "23                    0                    1             138         35    26   \n",
       "\n",
       "    xmax     ymin     ymax  pixel_area    log_area  x_component_1  \\\n",
       "2    974  1038442  1036754         300  300.120598              0   \n",
       "4    466  1088124  1086579         251  251.401943              0   \n",
       "11   831   299775   301108         264  264.389126              0   \n",
       "18   760   948223   949021         176  176.516962              0   \n",
       "23    45  3063581  3063303         466  466.998162              0   \n",
       "\n",
       "    x_component_2  x_component_3  x_component_4  x_component_5  class  \n",
       "2               0              0              0              0      2  \n",
       "4               0              0              0              0      2  \n",
       "11              0              0              0              0      2  \n",
       "18              0              0              0              0      2  \n",
       "23              0              0              0              0      2  "
      ]
     },
     "execution_count": 8,
     "metadata": {},
     "output_type": "execute_result"
    }
   ],
   "source": [
    "class_2.head()"
   ]
  },
  {
   "cell_type": "code",
   "execution_count": 5,
   "metadata": {},
   "outputs": [
    {
     "data": {
      "text/plain": [
       "<matplotlib.axes._subplots.AxesSubplot at 0x7f277f44e210>"
      ]
     },
     "execution_count": 5,
     "metadata": {},
     "output_type": "execute_result"
    },
    {
     "data": {
      "image/png": "[encoded data removed]",
      "text/plain": [
       "<Figure size 432x288 with 1 Axes>"
      ]
     },
     "metadata": {},
     "output_type": "display_data"
    }
   ],
   "source": [
    "sns.countplot(data['class'])"
   ]
  },
  {
   "cell_type": "code",
   "execution_count": 6,
   "metadata": {},
   "outputs": [
    {
     "data": {
      "text/plain": [
       "(array([1, 2]), array([887, 471]))"
      ]
     },
     "execution_count": 6,
     "metadata": {},
     "output_type": "execute_result"
    }
   ],
   "source": [
    "np.unique(data['class'], return_counts=True)"
   ]
  },
  {
   "cell_type": "code",
   "execution_count": 7,
   "metadata": {},
   "outputs": [
    {
     "data": {
      "text/plain": [
       "grade_A_Component_1    0\n",
       "grade_A_Component_2    0\n",
       "max_luminosity         0\n",
       "thickness              0\n",
       "xmin                   0\n",
       "xmax                   0\n",
       "ymin                   0\n",
       "ymax                   0\n",
       "pixel_area             0\n",
       "log_area               0\n",
       "x_component_1          0\n",
       "x_component_2          0\n",
       "x_component_3          0\n",
       "x_component_4          0\n",
       "x_component_5          0\n",
       "class                  0\n",
       "dtype: int64"
      ]
     },
     "execution_count": 7,
     "metadata": {},
     "output_type": "execute_result"
    }
   ],
   "source": [
    "data.isnull().sum()"
   ]
  },
  {
   "cell_type": "code",
   "execution_count": 8,
   "metadata": {},
   "outputs": [
    {
     "data": {
      "text/html": [
       "<div>\n",
       "<style scoped>\n",
       "    .dataframe tbody tr th:only-of-type {\n",
       "        vertical-align: middle;\n",
       "    }\n",
       "\n",
       "    .dataframe tbody tr th {\n",
       "        vertical-align: top;\n",
       "    }\n",
       "\n",
       "    .dataframe thead th {\n",
       "        text-align: right;\n",
       "    }\n",
       "</style>\n",
       "<table border=\"1\" class=\"dataframe\">\n",
       "  <thead>\n",
       "    <tr style=\"text-align: right;\">\n",
       "      <th></th>\n",
       "      <th>count</th>\n",
       "      <th>mean</th>\n",
       "      <th>std</th>\n",
       "      <th>min</th>\n",
       "      <th>25%</th>\n",
       "      <th>50%</th>\n",
       "      <th>75%</th>\n",
       "      <th>max</th>\n",
       "    </tr>\n",
       "  </thead>\n",
       "  <tbody>\n",
       "    <tr>\n",
       "      <th>grade_A_Component_1</th>\n",
       "      <td>1358.0</td>\n",
       "      <td>4.064801e-01</td>\n",
       "      <td>4.913571e-01</td>\n",
       "      <td>0.000000</td>\n",
       "      <td>0.000000</td>\n",
       "      <td>0.000000e+00</td>\n",
       "      <td>1.000000e+00</td>\n",
       "      <td>1.000000e+00</td>\n",
       "    </tr>\n",
       "    <tr>\n",
       "      <th>grade_A_Component_2</th>\n",
       "      <td>1358.0</td>\n",
       "      <td>5.935199e-01</td>\n",
       "      <td>4.913571e-01</td>\n",
       "      <td>0.000000</td>\n",
       "      <td>0.000000</td>\n",
       "      <td>1.000000e+00</td>\n",
       "      <td>1.000000e+00</td>\n",
       "      <td>1.000000e+00</td>\n",
       "    </tr>\n",
       "    <tr>\n",
       "      <th>max_luminosity</th>\n",
       "      <td>1358.0</td>\n",
       "      <td>1.378932e+02</td>\n",
       "      <td>2.048051e+01</td>\n",
       "      <td>71.000000</td>\n",
       "      <td>127.000000</td>\n",
       "      <td>1.370000e+02</td>\n",
       "      <td>1.460000e+02</td>\n",
       "      <td>2.660000e+02</td>\n",
       "    </tr>\n",
       "    <tr>\n",
       "      <th>thickness</th>\n",
       "      <td>1358.0</td>\n",
       "      <td>7.897791e+01</td>\n",
       "      <td>5.532484e+01</td>\n",
       "      <td>35.000000</td>\n",
       "      <td>42.000000</td>\n",
       "      <td>6.600000e+01</td>\n",
       "      <td>8.300000e+01</td>\n",
       "      <td>3.050000e+02</td>\n",
       "    </tr>\n",
       "    <tr>\n",
       "      <th>xmin</th>\n",
       "      <td>1358.0</td>\n",
       "      <td>5.673704e+02</td>\n",
       "      <td>5.220131e+02</td>\n",
       "      <td>0.000000</td>\n",
       "      <td>53.000000</td>\n",
       "      <td>4.075000e+02</td>\n",
       "      <td>1.041750e+03</td>\n",
       "      <td>1.692000e+03</td>\n",
       "    </tr>\n",
       "    <tr>\n",
       "      <th>xmax</th>\n",
       "      <td>1358.0</td>\n",
       "      <td>6.140324e+02</td>\n",
       "      <td>5.005055e+02</td>\n",
       "      <td>4.000000</td>\n",
       "      <td>192.000000</td>\n",
       "      <td>4.570000e+02</td>\n",
       "      <td>1.064000e+03</td>\n",
       "      <td>1.717000e+03</td>\n",
       "    </tr>\n",
       "    <tr>\n",
       "      <th>ymin</th>\n",
       "      <td>1358.0</td>\n",
       "      <td>1.660107e+06</td>\n",
       "      <td>1.778153e+06</td>\n",
       "      <td>7527.000000</td>\n",
       "      <td>466274.250000</td>\n",
       "      <td>1.216168e+06</td>\n",
       "      <td>2.210012e+06</td>\n",
       "      <td>1.291748e+07</td>\n",
       "    </tr>\n",
       "    <tr>\n",
       "      <th>ymax</th>\n",
       "      <td>1358.0</td>\n",
       "      <td>1.660139e+06</td>\n",
       "      <td>1.778177e+06</td>\n",
       "      <td>7453.000000</td>\n",
       "      <td>466691.750000</td>\n",
       "      <td>1.214700e+06</td>\n",
       "      <td>2.210076e+06</td>\n",
       "      <td>1.291731e+07</td>\n",
       "    </tr>\n",
       "    <tr>\n",
       "      <th>pixel_area</th>\n",
       "      <td>1358.0</td>\n",
       "      <td>1.903403e+03</td>\n",
       "      <td>3.839157e+03</td>\n",
       "      <td>3.000000</td>\n",
       "      <td>234.000000</td>\n",
       "      <td>3.460000e+02</td>\n",
       "      <td>9.152500e+02</td>\n",
       "      <td>3.739200e+04</td>\n",
       "    </tr>\n",
       "    <tr>\n",
       "      <th>log_area</th>\n",
       "      <td>1358.0</td>\n",
       "      <td>1.903896e+03</td>\n",
       "      <td>3.839163e+03</td>\n",
       "      <td>3.445293</td>\n",
       "      <td>234.335948</td>\n",
       "      <td>3.460445e+02</td>\n",
       "      <td>9.153678e+02</td>\n",
       "      <td>3.739267e+04</td>\n",
       "    </tr>\n",
       "    <tr>\n",
       "      <th>x_component_1</th>\n",
       "      <td>1358.0</td>\n",
       "      <td>8.173785e-02</td>\n",
       "      <td>2.740658e-01</td>\n",
       "      <td>0.000000</td>\n",
       "      <td>0.000000</td>\n",
       "      <td>0.000000e+00</td>\n",
       "      <td>0.000000e+00</td>\n",
       "      <td>1.000000e+00</td>\n",
       "    </tr>\n",
       "    <tr>\n",
       "      <th>x_component_2</th>\n",
       "      <td>1358.0</td>\n",
       "      <td>1.060383e-01</td>\n",
       "      <td>3.080000e-01</td>\n",
       "      <td>0.000000</td>\n",
       "      <td>0.000000</td>\n",
       "      <td>0.000000e+00</td>\n",
       "      <td>0.000000e+00</td>\n",
       "      <td>1.000000e+00</td>\n",
       "    </tr>\n",
       "    <tr>\n",
       "      <th>x_component_3</th>\n",
       "      <td>1358.0</td>\n",
       "      <td>1.973490e-01</td>\n",
       "      <td>3.981446e-01</td>\n",
       "      <td>0.000000</td>\n",
       "      <td>0.000000</td>\n",
       "      <td>0.000000e+00</td>\n",
       "      <td>0.000000e+00</td>\n",
       "      <td>1.000000e+00</td>\n",
       "    </tr>\n",
       "    <tr>\n",
       "      <th>x_component_4</th>\n",
       "      <td>1358.0</td>\n",
       "      <td>3.534610e-02</td>\n",
       "      <td>1.847211e-01</td>\n",
       "      <td>0.000000</td>\n",
       "      <td>0.000000</td>\n",
       "      <td>0.000000e+00</td>\n",
       "      <td>0.000000e+00</td>\n",
       "      <td>1.000000e+00</td>\n",
       "    </tr>\n",
       "    <tr>\n",
       "      <th>x_component_5</th>\n",
       "      <td>1358.0</td>\n",
       "      <td>2.798233e-02</td>\n",
       "      <td>1.649829e-01</td>\n",
       "      <td>0.000000</td>\n",
       "      <td>0.000000</td>\n",
       "      <td>0.000000e+00</td>\n",
       "      <td>0.000000e+00</td>\n",
       "      <td>1.000000e+00</td>\n",
       "    </tr>\n",
       "    <tr>\n",
       "      <th>class</th>\n",
       "      <td>1358.0</td>\n",
       "      <td>1.346834e+00</td>\n",
       "      <td>4.761376e-01</td>\n",
       "      <td>1.000000</td>\n",
       "      <td>1.000000</td>\n",
       "      <td>1.000000e+00</td>\n",
       "      <td>2.000000e+00</td>\n",
       "      <td>2.000000e+00</td>\n",
       "    </tr>\n",
       "  </tbody>\n",
       "</table>\n",
       "</div>"
      ],
      "text/plain": [
       "                      count          mean           std          min  \\\n",
       "grade_A_Component_1  1358.0  4.064801e-01  4.913571e-01     0.000000   \n",
       "grade_A_Component_2  1358.0  5.935199e-01  4.913571e-01     0.000000   \n",
       "max_luminosity       1358.0  1.378932e+02  2.048051e+01    71.000000   \n",
       "thickness            1358.0  7.897791e+01  5.532484e+01    35.000000   \n",
       "xmin                 1358.0  5.673704e+02  5.220131e+02     0.000000   \n",
       "xmax                 1358.0  6.140324e+02  5.005055e+02     4.000000   \n",
       "ymin                 1358.0  1.660107e+06  1.778153e+06  7527.000000   \n",
       "ymax                 1358.0  1.660139e+06  1.778177e+06  7453.000000   \n",
       "pixel_area           1358.0  1.903403e+03  3.839157e+03     3.000000   \n",
       "log_area             1358.0  1.903896e+03  3.839163e+03     3.445293   \n",
       "x_component_1        1358.0  8.173785e-02  2.740658e-01     0.000000   \n",
       "x_component_2        1358.0  1.060383e-01  3.080000e-01     0.000000   \n",
       "x_component_3        1358.0  1.973490e-01  3.981446e-01     0.000000   \n",
       "x_component_4        1358.0  3.534610e-02  1.847211e-01     0.000000   \n",
       "x_component_5        1358.0  2.798233e-02  1.649829e-01     0.000000   \n",
       "class                1358.0  1.346834e+00  4.761376e-01     1.000000   \n",
       "\n",
       "                               25%           50%           75%           max  \n",
       "grade_A_Component_1       0.000000  0.000000e+00  1.000000e+00  1.000000e+00  \n",
       "grade_A_Component_2       0.000000  1.000000e+00  1.000000e+00  1.000000e+00  \n",
       "max_luminosity          127.000000  1.370000e+02  1.460000e+02  2.660000e+02  \n",
       "thickness                42.000000  6.600000e+01  8.300000e+01  3.050000e+02  \n",
       "xmin                     53.000000  4.075000e+02  1.041750e+03  1.692000e+03  \n",
       "xmax                    192.000000  4.570000e+02  1.064000e+03  1.717000e+03  \n",
       "ymin                 466274.250000  1.216168e+06  2.210012e+06  1.291748e+07  \n",
       "ymax                 466691.750000  1.214700e+06  2.210076e+06  1.291731e+07  \n",
       "pixel_area              234.000000  3.460000e+02  9.152500e+02  3.739200e+04  \n",
       "log_area                234.335948  3.460445e+02  9.153678e+02  3.739267e+04  \n",
       "x_component_1             0.000000  0.000000e+00  0.000000e+00  1.000000e+00  \n",
       "x_component_2             0.000000  0.000000e+00  0.000000e+00  1.000000e+00  \n",
       "x_component_3             0.000000  0.000000e+00  0.000000e+00  1.000000e+00  \n",
       "x_component_4             0.000000  0.000000e+00  0.000000e+00  1.000000e+00  \n",
       "x_component_5             0.000000  0.000000e+00  0.000000e+00  1.000000e+00  \n",
       "class                     1.000000  1.000000e+00  2.000000e+00  2.000000e+00  "
      ]
     },
     "execution_count": 8,
     "metadata": {},
     "output_type": "execute_result"
    }
   ],
   "source": [
    "data.describe().T"
   ]
  },
  {
   "cell_type": "code",
   "execution_count": 9,
   "metadata": {
    "scrolled": true
   },
   "outputs": [
    {
     "data": {
      "text/plain": [
       "<matplotlib.axes._subplots.AxesSubplot at 0x7f277ec297d0>"
      ]
     },
     "execution_count": 9,
     "metadata": {},
     "output_type": "execute_result"
    },
    {
     "data": {
      "image/png": "[encoded data removed]",
      "text/plain": [
       "<Figure size 432x288 with 1 Axes>"
      ]
     },
     "metadata": {},
     "output_type": "display_data"
    }
   ],
   "source": [
    "sns.countplot(data['grade_A_Component_1'],hue = data['class'])"
   ]
  },
  {
   "cell_type": "code",
   "execution_count": 14,
   "metadata": {},
   "outputs": [
    {
     "data": {
      "text/plain": [
       "1.0"
      ]
     },
     "execution_count": 14,
     "metadata": {},
     "output_type": "execute_result"
    }
   ],
   "source": [
    "abs(data['grade_A_Component_1'] - data['grade_A_Component_2']).sum()/data.shape[0]"
   ]
  },
  {
   "cell_type": "markdown",
   "metadata": {},
   "source": [
    "## This means data['grade_A_Component_1'] = 1 - data['grade_A_Component_2'])\n",
    "### Hence, we can drop one of the feature from these two"
   ]
  },
  {
   "cell_type": "code",
   "execution_count": 18,
   "metadata": {},
   "outputs": [
    {
     "name": "stdout",
     "output_type": "stream",
     "text": [
      "Skewness: 0.08469729350101923\n",
      "Kurtosis: 3.1842797847766575\n"
     ]
    },
    {
     "data": {
      "image/png": "[encoded data removed]",
      "text/plain": [
       "<Figure size 720x432 with 1 Axes>"
      ]
     },
     "metadata": {},
     "output_type": "display_data"
    }
   ],
   "source": [
    "plt.figure(figsize = (10,6))\n",
    "\n",
    "x = np.log(data['max_luminosity'])\n",
    "\n",
    "sns.distplot(x)\n",
    "print('Skewness: {}'.format(x.skew()))\n",
    "print('Kurtosis: {}'.format(x.kurt()))"
   ]
  },
  {
   "cell_type": "markdown",
   "metadata": {},
   "source": [
    "### We'll be using log transformed max_luminosity as it is more normally distributed"
   ]
  },
  {
   "cell_type": "code",
   "execution_count": 65,
   "metadata": {},
   "outputs": [
    {
     "data": {
      "text/plain": [
       "<matplotlib.axes._subplots.AxesSubplot at 0x7f80a967b950>"
      ]
     },
     "execution_count": 65,
     "metadata": {},
     "output_type": "execute_result"
    },
    {
     "data": {
      "image/png": "[encoded data removed]",
      "text/plain": [
       "<Figure size 720x432 with 1 Axes>"
      ]
     },
     "metadata": {},
     "output_type": "display_data"
    }
   ],
   "source": [
    "plt.figure(figsize = (10,6))\n",
    "\n",
    "sns.boxplot(data['max_luminosity'])"
   ]
  },
  {
   "cell_type": "markdown",
   "metadata": {},
   "source": [
    "### max_luminosity > 250 might be outliears "
   ]
  },
  {
   "cell_type": "code",
   "execution_count": 66,
   "metadata": {},
   "outputs": [
    {
     "data": {
      "text/html": [
       "<div>\n",
       "<style scoped>\n",
       "    .dataframe tbody tr th:only-of-type {\n",
       "        vertical-align: middle;\n",
       "    }\n",
       "\n",
       "    .dataframe tbody tr th {\n",
       "        vertical-align: top;\n",
       "    }\n",
       "\n",
       "    .dataframe thead th {\n",
       "        text-align: right;\n",
       "    }\n",
       "</style>\n",
       "<table border=\"1\" class=\"dataframe\">\n",
       "  <thead>\n",
       "    <tr style=\"text-align: right;\">\n",
       "      <th></th>\n",
       "      <th>grade_A_Component_1</th>\n",
       "      <th>grade_A_Component_2</th>\n",
       "      <th>max_luminosity</th>\n",
       "      <th>thickness</th>\n",
       "      <th>xmin</th>\n",
       "      <th>xmax</th>\n",
       "      <th>ymin</th>\n",
       "      <th>ymax</th>\n",
       "      <th>pixel_area</th>\n",
       "      <th>log_area</th>\n",
       "      <th>x_component_1</th>\n",
       "      <th>x_component_2</th>\n",
       "      <th>x_component_3</th>\n",
       "      <th>x_component_4</th>\n",
       "      <th>x_component_5</th>\n",
       "      <th>class</th>\n",
       "    </tr>\n",
       "  </thead>\n",
       "  <tbody>\n",
       "    <tr>\n",
       "      <th>315</th>\n",
       "      <td>1</td>\n",
       "      <td>0</td>\n",
       "      <td>251</td>\n",
       "      <td>83</td>\n",
       "      <td>94</td>\n",
       "      <td>136</td>\n",
       "      <td>907404</td>\n",
       "      <td>907096</td>\n",
       "      <td>686</td>\n",
       "      <td>686.398521</td>\n",
       "      <td>0</td>\n",
       "      <td>0</td>\n",
       "      <td>0</td>\n",
       "      <td>0</td>\n",
       "      <td>0</td>\n",
       "      <td>1</td>\n",
       "    </tr>\n",
       "    <tr>\n",
       "      <th>528</th>\n",
       "      <td>1</td>\n",
       "      <td>0</td>\n",
       "      <td>266</td>\n",
       "      <td>99</td>\n",
       "      <td>365</td>\n",
       "      <td>1000</td>\n",
       "      <td>4600267</td>\n",
       "      <td>4601508</td>\n",
       "      <td>12097</td>\n",
       "      <td>12097.082130</td>\n",
       "      <td>0</td>\n",
       "      <td>0</td>\n",
       "      <td>0</td>\n",
       "      <td>0</td>\n",
       "      <td>0</td>\n",
       "      <td>2</td>\n",
       "    </tr>\n",
       "    <tr>\n",
       "      <th>608</th>\n",
       "      <td>1</td>\n",
       "      <td>0</td>\n",
       "      <td>266</td>\n",
       "      <td>82</td>\n",
       "      <td>531</td>\n",
       "      <td>677</td>\n",
       "      <td>1470886</td>\n",
       "      <td>1471156</td>\n",
       "      <td>1951</td>\n",
       "      <td>1951.676753</td>\n",
       "      <td>0</td>\n",
       "      <td>0</td>\n",
       "      <td>0</td>\n",
       "      <td>0</td>\n",
       "      <td>0</td>\n",
       "      <td>2</td>\n",
       "    </tr>\n",
       "    <tr>\n",
       "      <th>671</th>\n",
       "      <td>0</td>\n",
       "      <td>1</td>\n",
       "      <td>258</td>\n",
       "      <td>41</td>\n",
       "      <td>1118</td>\n",
       "      <td>1133</td>\n",
       "      <td>2674349</td>\n",
       "      <td>2673754</td>\n",
       "      <td>353</td>\n",
       "      <td>353.332846</td>\n",
       "      <td>0</td>\n",
       "      <td>0</td>\n",
       "      <td>0</td>\n",
       "      <td>0</td>\n",
       "      <td>0</td>\n",
       "      <td>2</td>\n",
       "    </tr>\n",
       "  </tbody>\n",
       "</table>\n",
       "</div>"
      ],
      "text/plain": [
       "     grade_A_Component_1  grade_A_Component_2  max_luminosity  thickness  \\\n",
       "315                    1                    0             251         83   \n",
       "528                    1                    0             266         99   \n",
       "608                    1                    0             266         82   \n",
       "671                    0                    1             258         41   \n",
       "\n",
       "     xmin  xmax     ymin     ymax  pixel_area      log_area  x_component_1  \\\n",
       "315    94   136   907404   907096         686    686.398521              0   \n",
       "528   365  1000  4600267  4601508       12097  12097.082130              0   \n",
       "608   531   677  1470886  1471156        1951   1951.676753              0   \n",
       "671  1118  1133  2674349  2673754         353    353.332846              0   \n",
       "\n",
       "     x_component_2  x_component_3  x_component_4  x_component_5  class  \n",
       "315              0              0              0              0      1  \n",
       "528              0              0              0              0      2  \n",
       "608              0              0              0              0      2  \n",
       "671              0              0              0              0      2  "
      ]
     },
     "execution_count": 66,
     "metadata": {},
     "output_type": "execute_result"
    }
   ],
   "source": [
    "data.loc[data['max_luminosity'] > 250]"
   ]
  },
  {
   "cell_type": "code",
   "execution_count": 21,
   "metadata": {},
   "outputs": [
    {
     "name": "stdout",
     "output_type": "stream",
     "text": [
      "Skewness: 0.27504955350698607\n",
      "Kurtosis: -0.5819448168640529\n"
     ]
    },
    {
     "data": {
      "image/png": "[encoded data removed]",
      "text/plain": [
       "<Figure size 720x432 with 1 Axes>"
      ]
     },
     "metadata": {},
     "output_type": "display_data"
    }
   ],
   "source": [
    "plt.figure(figsize = (10,6))\n",
    "\n",
    "x = data['max_luminosity']/data['thickness']\n",
    "\n",
    "sns.distplot(x)\n",
    "print('Skewness: {}'.format(x.skew()))\n",
    "print('Kurtosis: {}'.format(x.kurt()))"
   ]
  },
  {
   "cell_type": "code",
   "execution_count": 24,
   "metadata": {},
   "outputs": [
    {
     "name": "stdout",
     "output_type": "stream",
     "text": [
      "Skewness: 0.910371579193325\n",
      "Kurtosis: 0.14766600912533878\n"
     ]
    },
    {
     "data": {
      "image/png": "[encoded data removed]",
      "text/plain": [
       "<Figure size 720x432 with 1 Axes>"
      ]
     },
     "metadata": {},
     "output_type": "display_data"
    }
   ],
   "source": [
    "plt.figure(figsize = (10,6))\n",
    "\n",
    "x = np.log1p(abs(data['xmax'] - data['xmin']))\n",
    "\n",
    "sns.distplot(x)\n",
    "print('Skewness: {}'.format(x.skew()))\n",
    "print('Kurtosis: {}'.format(x.kurt()))"
   ]
  },
  {
   "cell_type": "markdown",
   "metadata": {},
   "source": [
    "### log_xrange = np.log1p(abs(data['xmax'] - data['xmin']))"
   ]
  },
  {
   "cell_type": "code",
   "execution_count": 27,
   "metadata": {},
   "outputs": [
    {
     "name": "stdout",
     "output_type": "stream",
     "text": [
      "Skewness: -0.1213232981035754\n",
      "Kurtosis: -0.7593382746699948\n"
     ]
    },
    {
     "data": {
      "image/png": "[encoded data removed]",
      "text/plain": [
       "<Figure size 720x432 with 1 Axes>"
      ]
     },
     "metadata": {},
     "output_type": "display_data"
    }
   ],
   "source": [
    "plt.figure(figsize = (10,6))\n",
    "\n",
    "x = np.sqrt(abs(data['ymin'] - data['ymax']))\n",
    "\n",
    "sns.distplot(x)\n",
    "print('Skewness: {}'.format(x.skew()))\n",
    "print('Kurtosis: {}'.format(x.kurt()))"
   ]
  },
  {
   "cell_type": "markdown",
   "metadata": {},
   "source": [
    "### sqrt_yrange = np.sqrt(abs(data['ymax'] - data['ymin'])))"
   ]
  },
  {
   "cell_type": "markdown",
   "metadata": {},
   "source": [
    "### from the data we can see that pixel_area is the outcome when floor function is applied of log_area, or neglect the values after decimal in log_area, you'll be getting pixel_area"
   ]
  },
  {
   "cell_type": "code",
   "execution_count": 29,
   "metadata": {},
   "outputs": [
    {
     "name": "stdout",
     "output_type": "stream",
     "text": [
      "Skewness: 0.9598422588639847\n",
      "Kurtosis: 0.1866488051064219\n"
     ]
    },
    {
     "data": {
      "image/png": "[encoded data removed]",
      "text/plain": [
       "<Figure size 720x432 with 1 Axes>"
      ]
     },
     "metadata": {},
     "output_type": "display_data"
    }
   ],
   "source": [
    "plt.figure(figsize = (10,6))\n",
    "\n",
    "x = np.log(data['pixel_area'])\n",
    "\n",
    "sns.distplot(x)\n",
    "print('Skewness: {}'.format(x.skew()))\n",
    "print('Kurtosis: {}'.format(x.kurt()))"
   ]
  },
  {
   "cell_type": "code",
   "execution_count": 30,
   "metadata": {},
   "outputs": [
    {
     "data": {
      "text/plain": [
       "<matplotlib.axes._subplots.AxesSubplot at 0x7f2921678d50>"
      ]
     },
     "execution_count": 30,
     "metadata": {},
     "output_type": "execute_result"
    },
    {
     "data": {
      "image/png": "[encoded data removed]",
      "text/plain": [
       "<Figure size 720x432 with 1 Axes>"
      ]
     },
     "metadata": {},
     "output_type": "display_data"
    }
   ],
   "source": [
    "plt.figure(figsize = (10,6))\n",
    "\n",
    "sns.boxplot(data['pixel_area'])"
   ]
  },
  {
   "cell_type": "markdown",
   "metadata": {},
   "source": [
    "### log_pixel_area = np.log(data['pixel_area'])"
   ]
  },
  {
   "cell_type": "markdown",
   "metadata": {},
   "source": [
    "# Feature Transformation/Engineering"
   ]
  },
  {
   "cell_type": "code",
   "execution_count": 2,
   "metadata": {},
   "outputs": [],
   "source": [
    "data = pd.read_csv('Train.csv')"
   ]
  },
  {
   "cell_type": "code",
   "execution_count": 3,
   "metadata": {},
   "outputs": [],
   "source": [
    "data['log_max_luminosity'] = np.log(data['max_luminosity'])\n",
    "data['log_pixel_area'] = np.log(data['pixel_area'])"
   ]
  },
  {
   "cell_type": "code",
   "execution_count": 4,
   "metadata": {},
   "outputs": [],
   "source": [
    "data['log_xrange'] = np.log1p(abs(data['xmax'] - data['xmin']))\n",
    "data['sqrt_yrange'] = np.sqrt(abs(data['ymax'] - data['ymin']))"
   ]
  },
  {
   "cell_type": "code",
   "execution_count": 5,
   "metadata": {},
   "outputs": [],
   "source": [
    "data['max_luminosity/thickness'] = data['max_luminosity']/data['thickness']"
   ]
  },
  {
   "cell_type": "code",
   "execution_count": 6,
   "metadata": {},
   "outputs": [],
   "source": [
    "data['avg_x_component'] = (data['x_component_1'] + data['x_component_2'] + data['x_component_3'] + data['x_component_4'] + data['x_component_5'])/5"
   ]
  },
  {
   "cell_type": "code",
   "execution_count": 7,
   "metadata": {},
   "outputs": [],
   "source": [
    "data = data.drop(['grade_A_Component_2','log_area'], axis = 1)"
   ]
  },
  {
   "cell_type": "code",
   "execution_count": 8,
   "metadata": {},
   "outputs": [
    {
     "data": {
      "text/html": [
       "<div>\n",
       "<style scoped>\n",
       "    .dataframe tbody tr th:only-of-type {\n",
       "        vertical-align: middle;\n",
       "    }\n",
       "\n",
       "    .dataframe tbody tr th {\n",
       "        vertical-align: top;\n",
       "    }\n",
       "\n",
       "    .dataframe thead th {\n",
       "        text-align: right;\n",
       "    }\n",
       "</style>\n",
       "<table border=\"1\" class=\"dataframe\">\n",
       "  <thead>\n",
       "    <tr style=\"text-align: right;\">\n",
       "      <th></th>\n",
       "      <th>grade_A_Component_1</th>\n",
       "      <th>max_luminosity</th>\n",
       "      <th>thickness</th>\n",
       "      <th>xmin</th>\n",
       "      <th>xmax</th>\n",
       "      <th>ymin</th>\n",
       "      <th>ymax</th>\n",
       "      <th>pixel_area</th>\n",
       "      <th>x_component_1</th>\n",
       "      <th>x_component_2</th>\n",
       "      <th>x_component_3</th>\n",
       "      <th>x_component_4</th>\n",
       "      <th>x_component_5</th>\n",
       "      <th>class</th>\n",
       "      <th>log_max_luminosity</th>\n",
       "      <th>log_pixel_area</th>\n",
       "      <th>log_xrange</th>\n",
       "      <th>sqrt_yrange</th>\n",
       "      <th>max_luminosity/thickness</th>\n",
       "      <th>avg_x_component</th>\n",
       "    </tr>\n",
       "  </thead>\n",
       "  <tbody>\n",
       "    <tr>\n",
       "      <td>0</td>\n",
       "      <td>0</td>\n",
       "      <td>150</td>\n",
       "      <td>36</td>\n",
       "      <td>144</td>\n",
       "      <td>172</td>\n",
       "      <td>947225</td>\n",
       "      <td>947332</td>\n",
       "      <td>439</td>\n",
       "      <td>0</td>\n",
       "      <td>0</td>\n",
       "      <td>1</td>\n",
       "      <td>0</td>\n",
       "      <td>0</td>\n",
       "      <td>1</td>\n",
       "      <td>5.010635</td>\n",
       "      <td>6.084499</td>\n",
       "      <td>3.367296</td>\n",
       "      <td>10.344080</td>\n",
       "      <td>4.166667</td>\n",
       "      <td>0.2</td>\n",
       "    </tr>\n",
       "    <tr>\n",
       "      <td>1</td>\n",
       "      <td>1</td>\n",
       "      <td>134</td>\n",
       "      <td>55</td>\n",
       "      <td>1144</td>\n",
       "      <td>1152</td>\n",
       "      <td>2379058</td>\n",
       "      <td>2379624</td>\n",
       "      <td>329</td>\n",
       "      <td>1</td>\n",
       "      <td>0</td>\n",
       "      <td>0</td>\n",
       "      <td>0</td>\n",
       "      <td>0</td>\n",
       "      <td>1</td>\n",
       "      <td>4.897840</td>\n",
       "      <td>5.796058</td>\n",
       "      <td>2.197225</td>\n",
       "      <td>23.790755</td>\n",
       "      <td>2.436364</td>\n",
       "      <td>0.2</td>\n",
       "    </tr>\n",
       "    <tr>\n",
       "      <td>2</td>\n",
       "      <td>1</td>\n",
       "      <td>135</td>\n",
       "      <td>65</td>\n",
       "      <td>950</td>\n",
       "      <td>974</td>\n",
       "      <td>1038442</td>\n",
       "      <td>1036754</td>\n",
       "      <td>300</td>\n",
       "      <td>0</td>\n",
       "      <td>0</td>\n",
       "      <td>0</td>\n",
       "      <td>0</td>\n",
       "      <td>0</td>\n",
       "      <td>2</td>\n",
       "      <td>4.905275</td>\n",
       "      <td>5.703782</td>\n",
       "      <td>3.218876</td>\n",
       "      <td>41.085277</td>\n",
       "      <td>2.076923</td>\n",
       "      <td>0.0</td>\n",
       "    </tr>\n",
       "    <tr>\n",
       "      <td>3</td>\n",
       "      <td>0</td>\n",
       "      <td>123</td>\n",
       "      <td>35</td>\n",
       "      <td>41</td>\n",
       "      <td>220</td>\n",
       "      <td>1705580</td>\n",
       "      <td>1705604</td>\n",
       "      <td>6803</td>\n",
       "      <td>0</td>\n",
       "      <td>0</td>\n",
       "      <td>1</td>\n",
       "      <td>0</td>\n",
       "      <td>0</td>\n",
       "      <td>1</td>\n",
       "      <td>4.812184</td>\n",
       "      <td>8.825119</td>\n",
       "      <td>5.192957</td>\n",
       "      <td>4.898979</td>\n",
       "      <td>3.514286</td>\n",
       "      <td>0.2</td>\n",
       "    </tr>\n",
       "    <tr>\n",
       "      <td>4</td>\n",
       "      <td>1</td>\n",
       "      <td>138</td>\n",
       "      <td>69</td>\n",
       "      <td>462</td>\n",
       "      <td>466</td>\n",
       "      <td>1088124</td>\n",
       "      <td>1086579</td>\n",
       "      <td>251</td>\n",
       "      <td>0</td>\n",
       "      <td>0</td>\n",
       "      <td>0</td>\n",
       "      <td>0</td>\n",
       "      <td>0</td>\n",
       "      <td>2</td>\n",
       "      <td>4.927254</td>\n",
       "      <td>5.525453</td>\n",
       "      <td>1.609438</td>\n",
       "      <td>39.306488</td>\n",
       "      <td>2.000000</td>\n",
       "      <td>0.0</td>\n",
       "    </tr>\n",
       "  </tbody>\n",
       "</table>\n",
       "</div>"
      ],
      "text/plain": [
       "   grade_A_Component_1  max_luminosity  thickness  xmin  xmax     ymin  \\\n",
       "0                    0             150         36   144   172   947225   \n",
       "1                    1             134         55  1144  1152  2379058   \n",
       "2                    1             135         65   950   974  1038442   \n",
       "3                    0             123         35    41   220  1705580   \n",
       "4                    1             138         69   462   466  1088124   \n",
       "\n",
       "      ymax  pixel_area  x_component_1  x_component_2  x_component_3  \\\n",
       "0   947332         439              0              0              1   \n",
       "1  2379624         329              1              0              0   \n",
       "2  1036754         300              0              0              0   \n",
       "3  1705604        6803              0              0              1   \n",
       "4  1086579         251              0              0              0   \n",
       "\n",
       "   x_component_4  x_component_5  class  log_max_luminosity  log_pixel_area  \\\n",
       "0              0              0      1            5.010635        6.084499   \n",
       "1              0              0      1            4.897840        5.796058   \n",
       "2              0              0      2            4.905275        5.703782   \n",
       "3              0              0      1            4.812184        8.825119   \n",
       "4              0              0      2            4.927254        5.525453   \n",
       "\n",
       "   log_xrange  sqrt_yrange  max_luminosity/thickness  avg_x_component  \n",
       "0    3.367296    10.344080                  4.166667              0.2  \n",
       "1    2.197225    23.790755                  2.436364              0.2  \n",
       "2    3.218876    41.085277                  2.076923              0.0  \n",
       "3    5.192957     4.898979                  3.514286              0.2  \n",
       "4    1.609438    39.306488                  2.000000              0.0  "
      ]
     },
     "execution_count": 8,
     "metadata": {},
     "output_type": "execute_result"
    }
   ],
   "source": [
    "data.head()"
   ]
  },
  {
   "cell_type": "code",
   "execution_count": 9,
   "metadata": {},
   "outputs": [],
   "source": [
    "target = data.pop('class')"
   ]
  },
  {
   "cell_type": "code",
   "execution_count": 10,
   "metadata": {},
   "outputs": [
    {
     "data": {
      "text/plain": [
       "(1358, 19)"
      ]
     },
     "execution_count": 10,
     "metadata": {},
     "output_type": "execute_result"
    }
   ],
   "source": [
    "data.shape"
   ]
  },
  {
   "cell_type": "code",
   "execution_count": 110,
   "metadata": {},
   "outputs": [
    {
     "data": {
      "text/html": [
       "<div>\n",
       "<style scoped>\n",
       "    .dataframe tbody tr th:only-of-type {\n",
       "        vertical-align: middle;\n",
       "    }\n",
       "\n",
       "    .dataframe tbody tr th {\n",
       "        vertical-align: top;\n",
       "    }\n",
       "\n",
       "    .dataframe thead th {\n",
       "        text-align: right;\n",
       "    }\n",
       "</style>\n",
       "<table border=\"1\" class=\"dataframe\">\n",
       "  <thead>\n",
       "    <tr style=\"text-align: right;\">\n",
       "      <th></th>\n",
       "      <th>grade_A_Component_1</th>\n",
       "      <th>max_luminosity</th>\n",
       "      <th>thickness</th>\n",
       "      <th>xmin</th>\n",
       "      <th>xmax</th>\n",
       "      <th>ymin</th>\n",
       "      <th>ymax</th>\n",
       "      <th>pixel_area</th>\n",
       "      <th>x_component_1</th>\n",
       "      <th>x_component_2</th>\n",
       "      <th>x_component_3</th>\n",
       "      <th>x_component_4</th>\n",
       "      <th>x_component_5</th>\n",
       "      <th>class</th>\n",
       "      <th>log_max_luminosity</th>\n",
       "      <th>log_pixel_area</th>\n",
       "      <th>log_xrange</th>\n",
       "      <th>sqrt_yrange</th>\n",
       "      <th>max_luminosity/thickness</th>\n",
       "      <th>avg_x_component</th>\n",
       "    </tr>\n",
       "  </thead>\n",
       "  <tbody>\n",
       "    <tr>\n",
       "      <th>0</th>\n",
       "      <td>0</td>\n",
       "      <td>150</td>\n",
       "      <td>36</td>\n",
       "      <td>144</td>\n",
       "      <td>172</td>\n",
       "      <td>947225</td>\n",
       "      <td>947332</td>\n",
       "      <td>439</td>\n",
       "      <td>0</td>\n",
       "      <td>0</td>\n",
       "      <td>1</td>\n",
       "      <td>0</td>\n",
       "      <td>0</td>\n",
       "      <td>1</td>\n",
       "      <td>5.010635</td>\n",
       "      <td>6.084499</td>\n",
       "      <td>3.367296</td>\n",
       "      <td>10.344080</td>\n",
       "      <td>4.166667</td>\n",
       "      <td>0.2</td>\n",
       "    </tr>\n",
       "    <tr>\n",
       "      <th>1</th>\n",
       "      <td>1</td>\n",
       "      <td>134</td>\n",
       "      <td>55</td>\n",
       "      <td>1144</td>\n",
       "      <td>1152</td>\n",
       "      <td>2379058</td>\n",
       "      <td>2379624</td>\n",
       "      <td>329</td>\n",
       "      <td>1</td>\n",
       "      <td>0</td>\n",
       "      <td>0</td>\n",
       "      <td>0</td>\n",
       "      <td>0</td>\n",
       "      <td>1</td>\n",
       "      <td>4.897840</td>\n",
       "      <td>5.796058</td>\n",
       "      <td>2.197225</td>\n",
       "      <td>23.790755</td>\n",
       "      <td>2.436364</td>\n",
       "      <td>0.2</td>\n",
       "    </tr>\n",
       "    <tr>\n",
       "      <th>2</th>\n",
       "      <td>1</td>\n",
       "      <td>135</td>\n",
       "      <td>65</td>\n",
       "      <td>950</td>\n",
       "      <td>974</td>\n",
       "      <td>1038442</td>\n",
       "      <td>1036754</td>\n",
       "      <td>300</td>\n",
       "      <td>0</td>\n",
       "      <td>0</td>\n",
       "      <td>0</td>\n",
       "      <td>0</td>\n",
       "      <td>0</td>\n",
       "      <td>2</td>\n",
       "      <td>4.905275</td>\n",
       "      <td>5.703782</td>\n",
       "      <td>3.218876</td>\n",
       "      <td>41.085277</td>\n",
       "      <td>2.076923</td>\n",
       "      <td>0.0</td>\n",
       "    </tr>\n",
       "    <tr>\n",
       "      <th>3</th>\n",
       "      <td>0</td>\n",
       "      <td>123</td>\n",
       "      <td>35</td>\n",
       "      <td>41</td>\n",
       "      <td>220</td>\n",
       "      <td>1705580</td>\n",
       "      <td>1705604</td>\n",
       "      <td>6803</td>\n",
       "      <td>0</td>\n",
       "      <td>0</td>\n",
       "      <td>1</td>\n",
       "      <td>0</td>\n",
       "      <td>0</td>\n",
       "      <td>1</td>\n",
       "      <td>4.812184</td>\n",
       "      <td>8.825119</td>\n",
       "      <td>5.192957</td>\n",
       "      <td>4.898979</td>\n",
       "      <td>3.514286</td>\n",
       "      <td>0.2</td>\n",
       "    </tr>\n",
       "    <tr>\n",
       "      <th>4</th>\n",
       "      <td>1</td>\n",
       "      <td>138</td>\n",
       "      <td>69</td>\n",
       "      <td>462</td>\n",
       "      <td>466</td>\n",
       "      <td>1088124</td>\n",
       "      <td>1086579</td>\n",
       "      <td>251</td>\n",
       "      <td>0</td>\n",
       "      <td>0</td>\n",
       "      <td>0</td>\n",
       "      <td>0</td>\n",
       "      <td>0</td>\n",
       "      <td>2</td>\n",
       "      <td>4.927254</td>\n",
       "      <td>5.525453</td>\n",
       "      <td>1.609438</td>\n",
       "      <td>39.306488</td>\n",
       "      <td>2.000000</td>\n",
       "      <td>0.0</td>\n",
       "    </tr>\n",
       "  </tbody>\n",
       "</table>\n",
       "</div>"
      ],
      "text/plain": [
       "   grade_A_Component_1  max_luminosity  thickness  xmin  xmax     ymin  \\\n",
       "0                    0             150         36   144   172   947225   \n",
       "1                    1             134         55  1144  1152  2379058   \n",
       "2                    1             135         65   950   974  1038442   \n",
       "3                    0             123         35    41   220  1705580   \n",
       "4                    1             138         69   462   466  1088124   \n",
       "\n",
       "      ymax  pixel_area  x_component_1  x_component_2  x_component_3  \\\n",
       "0   947332         439              0              0              1   \n",
       "1  2379624         329              1              0              0   \n",
       "2  1036754         300              0              0              0   \n",
       "3  1705604        6803              0              0              1   \n",
       "4  1086579         251              0              0              0   \n",
       "\n",
       "   x_component_4  x_component_5  class  log_max_luminosity  log_pixel_area  \\\n",
       "0              0              0      1            5.010635        6.084499   \n",
       "1              0              0      1            4.897840        5.796058   \n",
       "2              0              0      2            4.905275        5.703782   \n",
       "3              0              0      1            4.812184        8.825119   \n",
       "4              0              0      2            4.927254        5.525453   \n",
       "\n",
       "   log_xrange  sqrt_yrange  max_luminosity/thickness  avg_x_component  \n",
       "0    3.367296    10.344080                  4.166667              0.2  \n",
       "1    2.197225    23.790755                  2.436364              0.2  \n",
       "2    3.218876    41.085277                  2.076923              0.0  \n",
       "3    5.192957     4.898979                  3.514286              0.2  \n",
       "4    1.609438    39.306488                  2.000000              0.0  "
      ]
     },
     "execution_count": 110,
     "metadata": {},
     "output_type": "execute_result"
    }
   ],
   "source": [
    "data.head()"
   ]
  },
  {
   "cell_type": "code",
   "execution_count": 111,
   "metadata": {},
   "outputs": [
    {
     "data": {
      "text/plain": [
       "(1358, 20)"
      ]
     },
     "execution_count": 111,
     "metadata": {},
     "output_type": "execute_result"
    }
   ],
   "source": [
    "data.shape"
   ]
  },
  {
   "cell_type": "code",
   "execution_count": 112,
   "metadata": {},
   "outputs": [],
   "source": []
  },
  {
   "cell_type": "code",
   "execution_count": 113,
   "metadata": {},
   "outputs": [
    {
     "data": {
      "text/html": [
       "<div>\n",
       "<style scoped>\n",
       "    .dataframe tbody tr th:only-of-type {\n",
       "        vertical-align: middle;\n",
       "    }\n",
       "\n",
       "    .dataframe tbody tr th {\n",
       "        vertical-align: top;\n",
       "    }\n",
       "\n",
       "    .dataframe thead th {\n",
       "        text-align: right;\n",
       "    }\n",
       "</style>\n",
       "<table border=\"1\" class=\"dataframe\">\n",
       "  <thead>\n",
       "    <tr style=\"text-align: right;\">\n",
       "      <th></th>\n",
       "      <th>grade_A_Component_1</th>\n",
       "      <th>max_luminosity</th>\n",
       "      <th>thickness</th>\n",
       "      <th>xmin</th>\n",
       "      <th>xmax</th>\n",
       "      <th>ymin</th>\n",
       "      <th>ymax</th>\n",
       "      <th>pixel_area</th>\n",
       "      <th>x_component_1</th>\n",
       "      <th>x_component_2</th>\n",
       "      <th>x_component_3</th>\n",
       "      <th>x_component_4</th>\n",
       "      <th>x_component_5</th>\n",
       "      <th>log_max_luminosity</th>\n",
       "      <th>log_pixel_area</th>\n",
       "      <th>log_xrange</th>\n",
       "      <th>sqrt_yrange</th>\n",
       "      <th>max_luminosity/thickness</th>\n",
       "      <th>avg_x_component</th>\n",
       "    </tr>\n",
       "  </thead>\n",
       "  <tbody>\n",
       "    <tr>\n",
       "      <th>0</th>\n",
       "      <td>0</td>\n",
       "      <td>150</td>\n",
       "      <td>36</td>\n",
       "      <td>144</td>\n",
       "      <td>172</td>\n",
       "      <td>947225</td>\n",
       "      <td>947332</td>\n",
       "      <td>439</td>\n",
       "      <td>0</td>\n",
       "      <td>0</td>\n",
       "      <td>1</td>\n",
       "      <td>0</td>\n",
       "      <td>0</td>\n",
       "      <td>5.010635</td>\n",
       "      <td>6.084499</td>\n",
       "      <td>3.367296</td>\n",
       "      <td>10.344080</td>\n",
       "      <td>4.166667</td>\n",
       "      <td>0.2</td>\n",
       "    </tr>\n",
       "    <tr>\n",
       "      <th>1</th>\n",
       "      <td>1</td>\n",
       "      <td>134</td>\n",
       "      <td>55</td>\n",
       "      <td>1144</td>\n",
       "      <td>1152</td>\n",
       "      <td>2379058</td>\n",
       "      <td>2379624</td>\n",
       "      <td>329</td>\n",
       "      <td>1</td>\n",
       "      <td>0</td>\n",
       "      <td>0</td>\n",
       "      <td>0</td>\n",
       "      <td>0</td>\n",
       "      <td>4.897840</td>\n",
       "      <td>5.796058</td>\n",
       "      <td>2.197225</td>\n",
       "      <td>23.790755</td>\n",
       "      <td>2.436364</td>\n",
       "      <td>0.2</td>\n",
       "    </tr>\n",
       "    <tr>\n",
       "      <th>2</th>\n",
       "      <td>1</td>\n",
       "      <td>135</td>\n",
       "      <td>65</td>\n",
       "      <td>950</td>\n",
       "      <td>974</td>\n",
       "      <td>1038442</td>\n",
       "      <td>1036754</td>\n",
       "      <td>300</td>\n",
       "      <td>0</td>\n",
       "      <td>0</td>\n",
       "      <td>0</td>\n",
       "      <td>0</td>\n",
       "      <td>0</td>\n",
       "      <td>4.905275</td>\n",
       "      <td>5.703782</td>\n",
       "      <td>3.218876</td>\n",
       "      <td>41.085277</td>\n",
       "      <td>2.076923</td>\n",
       "      <td>0.0</td>\n",
       "    </tr>\n",
       "    <tr>\n",
       "      <th>3</th>\n",
       "      <td>0</td>\n",
       "      <td>123</td>\n",
       "      <td>35</td>\n",
       "      <td>41</td>\n",
       "      <td>220</td>\n",
       "      <td>1705580</td>\n",
       "      <td>1705604</td>\n",
       "      <td>6803</td>\n",
       "      <td>0</td>\n",
       "      <td>0</td>\n",
       "      <td>1</td>\n",
       "      <td>0</td>\n",
       "      <td>0</td>\n",
       "      <td>4.812184</td>\n",
       "      <td>8.825119</td>\n",
       "      <td>5.192957</td>\n",
       "      <td>4.898979</td>\n",
       "      <td>3.514286</td>\n",
       "      <td>0.2</td>\n",
       "    </tr>\n",
       "    <tr>\n",
       "      <th>4</th>\n",
       "      <td>1</td>\n",
       "      <td>138</td>\n",
       "      <td>69</td>\n",
       "      <td>462</td>\n",
       "      <td>466</td>\n",
       "      <td>1088124</td>\n",
       "      <td>1086579</td>\n",
       "      <td>251</td>\n",
       "      <td>0</td>\n",
       "      <td>0</td>\n",
       "      <td>0</td>\n",
       "      <td>0</td>\n",
       "      <td>0</td>\n",
       "      <td>4.927254</td>\n",
       "      <td>5.525453</td>\n",
       "      <td>1.609438</td>\n",
       "      <td>39.306488</td>\n",
       "      <td>2.000000</td>\n",
       "      <td>0.0</td>\n",
       "    </tr>\n",
       "  </tbody>\n",
       "</table>\n",
       "</div>"
      ],
      "text/plain": [
       "   grade_A_Component_1  max_luminosity  thickness  xmin  xmax     ymin  \\\n",
       "0                    0             150         36   144   172   947225   \n",
       "1                    1             134         55  1144  1152  2379058   \n",
       "2                    1             135         65   950   974  1038442   \n",
       "3                    0             123         35    41   220  1705580   \n",
       "4                    1             138         69   462   466  1088124   \n",
       "\n",
       "      ymax  pixel_area  x_component_1  x_component_2  x_component_3  \\\n",
       "0   947332         439              0              0              1   \n",
       "1  2379624         329              1              0              0   \n",
       "2  1036754         300              0              0              0   \n",
       "3  1705604        6803              0              0              1   \n",
       "4  1086579         251              0              0              0   \n",
       "\n",
       "   x_component_4  x_component_5  log_max_luminosity  log_pixel_area  \\\n",
       "0              0              0            5.010635        6.084499   \n",
       "1              0              0            4.897840        5.796058   \n",
       "2              0              0            4.905275        5.703782   \n",
       "3              0              0            4.812184        8.825119   \n",
       "4              0              0            4.927254        5.525453   \n",
       "\n",
       "   log_xrange  sqrt_yrange  max_luminosity/thickness  avg_x_component  \n",
       "0    3.367296    10.344080                  4.166667              0.2  \n",
       "1    2.197225    23.790755                  2.436364              0.2  \n",
       "2    3.218876    41.085277                  2.076923              0.0  \n",
       "3    5.192957     4.898979                  3.514286              0.2  \n",
       "4    1.609438    39.306488                  2.000000              0.0  "
      ]
     },
     "execution_count": 113,
     "metadata": {},
     "output_type": "execute_result"
    }
   ],
   "source": [
    "data.head()"
   ]
  },
  {
   "cell_type": "code",
   "execution_count": 114,
   "metadata": {},
   "outputs": [
    {
     "data": {
      "text/plain": [
       "(1358, 19)"
      ]
     },
     "execution_count": 114,
     "metadata": {},
     "output_type": "execute_result"
    }
   ],
   "source": [
    "data.shape"
   ]
  },
  {
   "cell_type": "code",
   "execution_count": 85,
   "metadata": {},
   "outputs": [
    {
     "data": {
      "text/plain": [
       "0       1\n",
       "1       1\n",
       "2       2\n",
       "3       1\n",
       "4       2\n",
       "       ..\n",
       "1353    1\n",
       "1354    2\n",
       "1355    1\n",
       "1356    2\n",
       "1357    2\n",
       "Name: class, Length: 1358, dtype: int64"
      ]
     },
     "execution_count": 85,
     "metadata": {},
     "output_type": "execute_result"
    }
   ],
   "source": [
    "target"
   ]
  },
  {
   "cell_type": "code",
   "execution_count": 86,
   "metadata": {},
   "outputs": [],
   "source": [
    "from sklearn.preprocessing import LabelBinarizer\n",
    "lb = LabelBinarizer()\n",
    "\n",
    "target = lb.fit_transform(target.values)[:, 0]"
   ]
  },
  {
   "cell_type": "code",
   "execution_count": 87,
   "metadata": {},
   "outputs": [
    {
     "data": {
      "text/plain": [
       "array([0, 0, 1, ..., 0, 1, 1])"
      ]
     },
     "execution_count": 87,
     "metadata": {},
     "output_type": "execute_result"
    }
   ],
   "source": [
    "target"
   ]
  },
  {
   "cell_type": "markdown",
   "metadata": {},
   "source": [
    "# Creating training and validation sets"
   ]
  },
  {
   "cell_type": "code",
   "execution_count": 130,
   "metadata": {},
   "outputs": [],
   "source": [
    "from sklearn.model_selection import train_test_split\n",
    "train_x, val_x, train_y, val_y = train_test_split(data.values, target, test_size = 0.2, random_state = 123)"
   ]
  },
  {
   "cell_type": "code",
   "execution_count": 131,
   "metadata": {},
   "outputs": [
    {
     "data": {
      "text/plain": [
       "array([[  1.        , 125.        ,  72.        , ...,  13.89244399,\n",
       "          1.73611111,   0.        ],\n",
       "       [  0.        , 146.        , 100.        , ...,  26.70205985,\n",
       "          1.46      ,   0.2       ],\n",
       "       [  0.        , 145.        ,  44.        , ...,  26.81417536,\n",
       "          3.29545455,   0.2       ],\n",
       "       ...,\n",
       "       [  1.        , 167.        ,  72.        , ...,  27.07397274,\n",
       "          2.31944444,   0.        ],\n",
       "       [  0.        , 150.        ,  35.        , ...,  43.19722213,\n",
       "          4.28571429,   0.2       ],\n",
       "       [  0.        , 144.        ,  36.        , ...,  38.82009789,\n",
       "          4.        ,   0.2       ]])"
      ]
     },
     "execution_count": 131,
     "metadata": {},
     "output_type": "execute_result"
    }
   ],
   "source": [
    "train_x"
   ]
  },
  {
   "cell_type": "markdown",
   "metadata": {},
   "source": [
    "# Data Scaling"
   ]
  },
  {
   "cell_type": "code",
   "execution_count": 132,
   "metadata": {},
   "outputs": [],
   "source": [
    "from sklearn.preprocessing import StandardScaler\n",
    "scaler = StandardScaler()\n",
    "\n",
    "train_x = scaler.fit_transform(train_x)\n",
    "val_x = scaler.transform(val_x)"
   ]
  },
  {
   "cell_type": "code",
   "execution_count": 133,
   "metadata": {},
   "outputs": [
    {
     "data": {
      "text/plain": [
       "array([[ 1.22333631, -0.63565255, -0.13046925, ..., -1.02881628,\n",
       "        -0.5527618 , -0.9033568 ],\n",
       "       [-0.8174367 ,  0.38409225,  0.36041282, ...,  0.26689615,\n",
       "        -0.80184028,  1.10698231],\n",
       "       [-0.8174367 ,  0.33553297, -0.62135131, ...,  0.2782368 ,\n",
       "         0.85391422,  1.10698231],\n",
       "       ...,\n",
       "       [ 1.22333631,  1.40383704, -0.13046925, ...,  0.30451571,\n",
       "        -0.02653968, -0.9033568 ],\n",
       "       [-0.8174367 ,  0.57832935, -0.77913483, ...,  1.93540729,\n",
       "         1.74722264,  1.10698231],\n",
       "       [-0.8174367 ,  0.28697369, -0.76160333, ...,  1.49265441,\n",
       "         1.4894812 ,  1.10698231]])"
      ]
     },
     "execution_count": 133,
     "metadata": {},
     "output_type": "execute_result"
    }
   ],
   "source": [
    "train_x"
   ]
  },
  {
   "cell_type": "markdown",
   "metadata": {},
   "source": [
    "# Modelling and cross_validation"
   ]
  },
  {
   "cell_type": "code",
   "execution_count": 325,
   "metadata": {},
   "outputs": [],
   "source": [
    "from sklearn.linear_model import LogisticRegression\n",
    "from sklearn.model_selection import cross_val_score\n",
    "from sklearn.model_selection import StratifiedKFold \n",
    "\n",
    "from sklearn.neighbors import KNeighborsClassifier\n",
    "from xgboost import XGBClassifier\n",
    "from lightgbm import LGBMClassifier\n",
    "from sklearn.svm import SVC\n",
    "from sklearn.ensemble import RandomForestClassifier\n",
    "from sklearn.ensemble import GradientBoostingClassifier\n",
    "from sklearn.ensemble import ExtraTreesClassifier\n",
    "from sklearn.tree import DecisionTreeClassifier\n",
    "\n",
    "lr = LogisticRegression()\n",
    "#knn = KNeighborsClassifier(n_neighbors=3)\n",
    "xgb = XGBClassifier()\n",
    "lgb = LGBMClassifier()\n",
    "svc = SVC(probability=True, kernel='linear', C=7)\n",
    "rfc = RandomForestClassifier(n_estimators=100, max_features=5)\n",
    "gbc = GradientBoostingClassifier(n_estimators=100, max_features=8)\n",
    "etc = ExtraTreesClassifier(n_estimators=80, max_features=7)\n",
    "dc = DecisionTreeClassifier()\n",
    "\n",
    "scores = cross_val_score(etc, train_x, train_y, scoring = 'neg_log_loss', cv = StratifiedKFold(n_splits = 5, shuffle = True))"
   ]
  },
  {
   "cell_type": "code",
   "execution_count": 330,
   "metadata": {},
   "outputs": [],
   "source": [
    "from sklearn.ensemble import BaggingClassifier\n",
    "\n",
    "bc = BaggingClassifier(base_estimator=ExtraTreesClassifier(n_estimators=80, max_features=7), random_state=0)\n",
    "\n",
    "scores = cross_val_score(bc, train_x, train_y, scoring = 'neg_log_loss', cv = StratifiedKFold(n_splits = 5, shuffle = True))"
   ]
  },
  {
   "cell_type": "code",
   "execution_count": 331,
   "metadata": {},
   "outputs": [
    {
     "data": {
      "text/plain": [
       "-0.26923122328295385"
      ]
     },
     "execution_count": 331,
     "metadata": {},
     "output_type": "execute_result"
    }
   ],
   "source": [
    "scores.mean()"
   ]
  },
  {
   "cell_type": "code",
   "execution_count": 332,
   "metadata": {},
   "outputs": [],
   "source": [
    "from sklearn.ensemble import StackingClassifier\n",
    "\n",
    "estimators = [('rfc',rfc),('gbc',gbc),('etc',etc),('lr',lr)]\n",
    "\n",
    "sc = StackingClassifier(estimators=estimators)\n",
    "\n",
    "scores = cross_val_score(sc, train_x, train_y, scoring = 'neg_log_loss', cv = StratifiedKFold(n_splits = 5, shuffle = True))"
   ]
  },
  {
   "cell_type": "code",
   "execution_count": 333,
   "metadata": {},
   "outputs": [
    {
     "data": {
      "text/plain": [
       "-0.2784868024659486"
      ]
     },
     "execution_count": 333,
     "metadata": {},
     "output_type": "execute_result"
    }
   ],
   "source": [
    "scores.mean()"
   ]
  },
  {
   "cell_type": "code",
   "execution_count": 140,
   "metadata": {},
   "outputs": [],
   "source": [
    "#SVC\n",
    "from sklearn.model_selection import GridSearchCV\n",
    "param_grid = {'kernel':('linear','rbf'),\n",
    "             'C': [0.1,1,10,100],\n",
    "             'gamma' :('scale','auto')}\n",
    "\n",
    "grid_search_svc = GridSearchCV(svc, param_grid=param_grid, cv=StratifiedKFold(n_splits = 5, shuffle = False), scoring='neg_log_loss')"
   ]
  },
  {
   "cell_type": "code",
   "execution_count": 141,
   "metadata": {},
   "outputs": [
    {
     "data": {
      "text/plain": [
       "GridSearchCV(cv=StratifiedKFold(n_splits=5, random_state=None, shuffle=False),\n",
       "             error_score=nan,\n",
       "             estimator=SVC(C=1.0, break_ties=False, cache_size=200,\n",
       "                           class_weight=None, coef0=0.0,\n",
       "                           decision_function_shape='ovr', degree=3,\n",
       "                           gamma='scale', kernel='rbf', max_iter=-1,\n",
       "                           probability=True, random_state=None, shrinking=True,\n",
       "                           tol=0.001, verbose=False),\n",
       "             iid='deprecated', n_jobs=None,\n",
       "             param_grid={'C': [0.1, 1, 10, 100], 'gamma': ('scale', 'auto'),\n",
       "                         'kernel': ('linear', 'rbf')},\n",
       "             pre_dispatch='2*n_jobs', refit=True, return_train_score=False,\n",
       "             scoring='neg_log_loss', verbose=0)"
      ]
     },
     "execution_count": 141,
     "metadata": {},
     "output_type": "execute_result"
    }
   ],
   "source": [
    "grid_search_svc.fit(train_x, train_y)"
   ]
  },
  {
   "cell_type": "code",
   "execution_count": 142,
   "metadata": {},
   "outputs": [
    {
     "data": {
      "text/plain": [
       "-0.33200574247818365"
      ]
     },
     "execution_count": 142,
     "metadata": {},
     "output_type": "execute_result"
    }
   ],
   "source": [
    "grid_search_svc.best_score_"
   ]
  },
  {
   "cell_type": "code",
   "execution_count": 41,
   "metadata": {},
   "outputs": [],
   "source": [
    "#LR\n",
    "from sklearn.model_selection import GridSearchCV\n",
    "param_grid = {'C': [0.1,1,10,100],\n",
    "             'class_weight':(None, 'balanced')}\n",
    "lr = LogisticRegression(max_iter=1000)\n",
    "grid_search_lr = GridSearchCV(lr, param_grid=param_grid, cv=StratifiedKFold(n_splits = 5, shuffle = False), scoring='neg_log_loss')"
   ]
  },
  {
   "cell_type": "code",
   "execution_count": 42,
   "metadata": {},
   "outputs": [
    {
     "data": {
      "text/plain": [
       "GridSearchCV(cv=StratifiedKFold(n_splits=5, random_state=None, shuffle=False),\n",
       "             error_score=nan,\n",
       "             estimator=LogisticRegression(C=1.0, class_weight=None, dual=False,\n",
       "                                          fit_intercept=True,\n",
       "                                          intercept_scaling=1, l1_ratio=None,\n",
       "                                          max_iter=1000, multi_class='auto',\n",
       "                                          n_jobs=None, penalty='l2',\n",
       "                                          random_state=None, solver='lbfgs',\n",
       "                                          tol=0.0001, verbose=0,\n",
       "                                          warm_start=False),\n",
       "             iid='deprecated', n_jobs=None,\n",
       "             param_grid={'C': [0.1, 1, 10, 100],\n",
       "                         'class_weight': (None, 'balanced')},\n",
       "             pre_dispatch='2*n_jobs', refit=True, return_train_score=False,\n",
       "             scoring='neg_log_loss', verbose=0)"
      ]
     },
     "execution_count": 42,
     "metadata": {},
     "output_type": "execute_result"
    }
   ],
   "source": [
    "grid_search_lr.fit(train_x, train_y)"
   ]
  },
  {
   "cell_type": "code",
   "execution_count": 43,
   "metadata": {},
   "outputs": [
    {
     "data": {
      "text/plain": [
       "LogisticRegression(C=10, class_weight=None, dual=False, fit_intercept=True,\n",
       "                   intercept_scaling=1, l1_ratio=None, max_iter=1000,\n",
       "                   multi_class='auto', n_jobs=None, penalty='l2',\n",
       "                   random_state=None, solver='lbfgs', tol=0.0001, verbose=0,\n",
       "                   warm_start=False)"
      ]
     },
     "execution_count": 43,
     "metadata": {},
     "output_type": "execute_result"
    }
   ],
   "source": [
    "grid_search_lr.best_estimator_"
   ]
  },
  {
   "cell_type": "code",
   "execution_count": 44,
   "metadata": {},
   "outputs": [],
   "source": [
    "lr = grid_search_lr.best_estimator_"
   ]
  },
  {
   "cell_type": "code",
   "execution_count": 45,
   "metadata": {},
   "outputs": [
    {
     "data": {
      "text/plain": [
       "LogisticRegression(C=10, class_weight=None, dual=False, fit_intercept=True,\n",
       "                   intercept_scaling=1, l1_ratio=None, max_iter=1000,\n",
       "                   multi_class='auto', n_jobs=None, penalty='l2',\n",
       "                   random_state=None, solver='lbfgs', tol=0.0001, verbose=0,\n",
       "                   warm_start=False)"
      ]
     },
     "execution_count": 45,
     "metadata": {},
     "output_type": "execute_result"
    }
   ],
   "source": [
    "lr.fit(train_x, train_y)"
   ]
  },
  {
   "cell_type": "code",
   "execution_count": 46,
   "metadata": {},
   "outputs": [],
   "source": [
    "preds = lr.predict_proba(val_x)"
   ]
  },
  {
   "cell_type": "code",
   "execution_count": 47,
   "metadata": {},
   "outputs": [
    {
     "data": {
      "text/plain": [
       "0.3355240588301555"
      ]
     },
     "execution_count": 47,
     "metadata": {},
     "output_type": "execute_result"
    }
   ],
   "source": [
    "from sklearn.metrics import log_loss\n",
    "\n",
    "log_loss(val_y, preds)"
   ]
  },
  {
   "cell_type": "code",
   "execution_count": 129,
   "metadata": {},
   "outputs": [
    {
     "data": {
      "text/plain": [
       "0.3313326550832083"
      ]
     },
     "execution_count": 129,
     "metadata": {},
     "output_type": "execute_result"
    }
   ],
   "source": [
    "from sklearn.metrics import log_loss\n",
    "\n",
    "log_loss(val_y[:,1], preds)"
   ]
  },
  {
   "cell_type": "markdown",
   "metadata": {},
   "source": [
    "# Test Data"
   ]
  },
  {
   "cell_type": "code",
   "execution_count": 335,
   "metadata": {},
   "outputs": [],
   "source": [
    "test = pd.read_csv('Test.csv')"
   ]
  },
  {
   "cell_type": "code",
   "execution_count": 336,
   "metadata": {},
   "outputs": [
    {
     "data": {
      "text/html": [
       "<div>\n",
       "<style scoped>\n",
       "    .dataframe tbody tr th:only-of-type {\n",
       "        vertical-align: middle;\n",
       "    }\n",
       "\n",
       "    .dataframe tbody tr th {\n",
       "        vertical-align: top;\n",
       "    }\n",
       "\n",
       "    .dataframe thead th {\n",
       "        text-align: right;\n",
       "    }\n",
       "</style>\n",
       "<table border=\"1\" class=\"dataframe\">\n",
       "  <thead>\n",
       "    <tr style=\"text-align: right;\">\n",
       "      <th></th>\n",
       "      <th>grade_A_Component_1</th>\n",
       "      <th>grade_A_Component_2</th>\n",
       "      <th>max_luminosity</th>\n",
       "      <th>thickness</th>\n",
       "      <th>xmin</th>\n",
       "      <th>xmax</th>\n",
       "      <th>ymin</th>\n",
       "      <th>ymax</th>\n",
       "      <th>pixel_area</th>\n",
       "      <th>log_area</th>\n",
       "      <th>x_component_1</th>\n",
       "      <th>x_component_2</th>\n",
       "      <th>x_component_3</th>\n",
       "      <th>x_component_4</th>\n",
       "      <th>x_component_5</th>\n",
       "    </tr>\n",
       "  </thead>\n",
       "  <tbody>\n",
       "    <tr>\n",
       "      <td>0</td>\n",
       "      <td>1</td>\n",
       "      <td>0</td>\n",
       "      <td>123</td>\n",
       "      <td>65</td>\n",
       "      <td>33</td>\n",
       "      <td>54</td>\n",
       "      <td>1646439</td>\n",
       "      <td>1646893</td>\n",
       "      <td>632</td>\n",
       "      <td>632.391749</td>\n",
       "      <td>0</td>\n",
       "      <td>1</td>\n",
       "      <td>0</td>\n",
       "      <td>0</td>\n",
       "      <td>0</td>\n",
       "    </tr>\n",
       "    <tr>\n",
       "      <td>1</td>\n",
       "      <td>0</td>\n",
       "      <td>1</td>\n",
       "      <td>158</td>\n",
       "      <td>99</td>\n",
       "      <td>125</td>\n",
       "      <td>132</td>\n",
       "      <td>189874</td>\n",
       "      <td>189529</td>\n",
       "      <td>421</td>\n",
       "      <td>421.928609</td>\n",
       "      <td>0</td>\n",
       "      <td>0</td>\n",
       "      <td>0</td>\n",
       "      <td>0</td>\n",
       "      <td>0</td>\n",
       "    </tr>\n",
       "    <tr>\n",
       "      <td>2</td>\n",
       "      <td>0</td>\n",
       "      <td>1</td>\n",
       "      <td>120</td>\n",
       "      <td>35</td>\n",
       "      <td>64</td>\n",
       "      <td>75</td>\n",
       "      <td>12986873</td>\n",
       "      <td>12986862</td>\n",
       "      <td>272</td>\n",
       "      <td>272.212214</td>\n",
       "      <td>1</td>\n",
       "      <td>0</td>\n",
       "      <td>0</td>\n",
       "      <td>0</td>\n",
       "      <td>0</td>\n",
       "    </tr>\n",
       "    <tr>\n",
       "      <td>3</td>\n",
       "      <td>0</td>\n",
       "      <td>1</td>\n",
       "      <td>130</td>\n",
       "      <td>39</td>\n",
       "      <td>57</td>\n",
       "      <td>177</td>\n",
       "      <td>309634</td>\n",
       "      <td>310824</td>\n",
       "      <td>3312</td>\n",
       "      <td>3312.310581</td>\n",
       "      <td>0</td>\n",
       "      <td>0</td>\n",
       "      <td>1</td>\n",
       "      <td>0</td>\n",
       "      <td>0</td>\n",
       "    </tr>\n",
       "    <tr>\n",
       "      <td>4</td>\n",
       "      <td>1</td>\n",
       "      <td>0</td>\n",
       "      <td>142</td>\n",
       "      <td>75</td>\n",
       "      <td>23</td>\n",
       "      <td>79</td>\n",
       "      <td>5368307</td>\n",
       "      <td>5367467</td>\n",
       "      <td>862</td>\n",
       "      <td>862.499179</td>\n",
       "      <td>0</td>\n",
       "      <td>0</td>\n",
       "      <td>0</td>\n",
       "      <td>0</td>\n",
       "      <td>0</td>\n",
       "    </tr>\n",
       "  </tbody>\n",
       "</table>\n",
       "</div>"
      ],
      "text/plain": [
       "   grade_A_Component_1  grade_A_Component_2  max_luminosity  thickness  xmin  \\\n",
       "0                    1                    0             123         65    33   \n",
       "1                    0                    1             158         99   125   \n",
       "2                    0                    1             120         35    64   \n",
       "3                    0                    1             130         39    57   \n",
       "4                    1                    0             142         75    23   \n",
       "\n",
       "   xmax      ymin      ymax  pixel_area     log_area  x_component_1  \\\n",
       "0    54   1646439   1646893         632   632.391749              0   \n",
       "1   132    189874    189529         421   421.928609              0   \n",
       "2    75  12986873  12986862         272   272.212214              1   \n",
       "3   177    309634    310824        3312  3312.310581              0   \n",
       "4    79   5368307   5367467         862   862.499179              0   \n",
       "\n",
       "   x_component_2  x_component_3  x_component_4  x_component_5  \n",
       "0              1              0              0              0  \n",
       "1              0              0              0              0  \n",
       "2              0              0              0              0  \n",
       "3              0              1              0              0  \n",
       "4              0              0              0              0  "
      ]
     },
     "execution_count": 336,
     "metadata": {},
     "output_type": "execute_result"
    }
   ],
   "source": [
    "test.head()"
   ]
  },
  {
   "cell_type": "code",
   "execution_count": 337,
   "metadata": {},
   "outputs": [],
   "source": [
    "test['log_max_luminosity'] = np.log(test['max_luminosity'])\n",
    "test['log_pixel_area'] = np.log(test['pixel_area'])\n",
    "\n",
    "test['log_xrange'] = np.log1p(abs(test['xmax'] - test['xmin']))\n",
    "test['sqrt_yrange'] = np.sqrt(abs(test['ymax'] - test['ymin']))\n",
    "\n",
    "test['max_luminosity/thickness'] = test['max_luminosity']/test['thickness']\n",
    "\n",
    "test['avg_x_component'] = (test['x_component_1'] + test['x_component_2'] + test['x_component_3'] + test['x_component_4'] + test['x_component_5'])/5"
   ]
  },
  {
   "cell_type": "code",
   "execution_count": 338,
   "metadata": {},
   "outputs": [],
   "source": [
    "test = test.drop(['grade_A_Component_2','log_area'], axis = 1)"
   ]
  },
  {
   "cell_type": "code",
   "execution_count": 339,
   "metadata": {},
   "outputs": [
    {
     "data": {
      "text/html": [
       "<div>\n",
       "<style scoped>\n",
       "    .dataframe tbody tr th:only-of-type {\n",
       "        vertical-align: middle;\n",
       "    }\n",
       "\n",
       "    .dataframe tbody tr th {\n",
       "        vertical-align: top;\n",
       "    }\n",
       "\n",
       "    .dataframe thead th {\n",
       "        text-align: right;\n",
       "    }\n",
       "</style>\n",
       "<table border=\"1\" class=\"dataframe\">\n",
       "  <thead>\n",
       "    <tr style=\"text-align: right;\">\n",
       "      <th></th>\n",
       "      <th>grade_A_Component_1</th>\n",
       "      <th>max_luminosity</th>\n",
       "      <th>thickness</th>\n",
       "      <th>xmin</th>\n",
       "      <th>xmax</th>\n",
       "      <th>ymin</th>\n",
       "      <th>ymax</th>\n",
       "      <th>pixel_area</th>\n",
       "      <th>x_component_1</th>\n",
       "      <th>x_component_2</th>\n",
       "      <th>x_component_3</th>\n",
       "      <th>x_component_4</th>\n",
       "      <th>x_component_5</th>\n",
       "      <th>log_max_luminosity</th>\n",
       "      <th>log_pixel_area</th>\n",
       "      <th>log_xrange</th>\n",
       "      <th>sqrt_yrange</th>\n",
       "      <th>max_luminosity/thickness</th>\n",
       "      <th>avg_x_component</th>\n",
       "    </tr>\n",
       "  </thead>\n",
       "  <tbody>\n",
       "    <tr>\n",
       "      <td>0</td>\n",
       "      <td>1</td>\n",
       "      <td>123</td>\n",
       "      <td>65</td>\n",
       "      <td>33</td>\n",
       "      <td>54</td>\n",
       "      <td>1646439</td>\n",
       "      <td>1646893</td>\n",
       "      <td>632</td>\n",
       "      <td>0</td>\n",
       "      <td>1</td>\n",
       "      <td>0</td>\n",
       "      <td>0</td>\n",
       "      <td>0</td>\n",
       "      <td>4.812184</td>\n",
       "      <td>6.448889</td>\n",
       "      <td>3.091042</td>\n",
       "      <td>21.307276</td>\n",
       "      <td>1.892308</td>\n",
       "      <td>0.2</td>\n",
       "    </tr>\n",
       "    <tr>\n",
       "      <td>1</td>\n",
       "      <td>0</td>\n",
       "      <td>158</td>\n",
       "      <td>99</td>\n",
       "      <td>125</td>\n",
       "      <td>132</td>\n",
       "      <td>189874</td>\n",
       "      <td>189529</td>\n",
       "      <td>421</td>\n",
       "      <td>0</td>\n",
       "      <td>0</td>\n",
       "      <td>0</td>\n",
       "      <td>0</td>\n",
       "      <td>0</td>\n",
       "      <td>5.062595</td>\n",
       "      <td>6.042633</td>\n",
       "      <td>2.079442</td>\n",
       "      <td>18.574176</td>\n",
       "      <td>1.595960</td>\n",
       "      <td>0.0</td>\n",
       "    </tr>\n",
       "    <tr>\n",
       "      <td>2</td>\n",
       "      <td>0</td>\n",
       "      <td>120</td>\n",
       "      <td>35</td>\n",
       "      <td>64</td>\n",
       "      <td>75</td>\n",
       "      <td>12986873</td>\n",
       "      <td>12986862</td>\n",
       "      <td>272</td>\n",
       "      <td>1</td>\n",
       "      <td>0</td>\n",
       "      <td>0</td>\n",
       "      <td>0</td>\n",
       "      <td>0</td>\n",
       "      <td>4.787492</td>\n",
       "      <td>5.605802</td>\n",
       "      <td>2.484907</td>\n",
       "      <td>3.316625</td>\n",
       "      <td>3.428571</td>\n",
       "      <td>0.2</td>\n",
       "    </tr>\n",
       "    <tr>\n",
       "      <td>3</td>\n",
       "      <td>0</td>\n",
       "      <td>130</td>\n",
       "      <td>39</td>\n",
       "      <td>57</td>\n",
       "      <td>177</td>\n",
       "      <td>309634</td>\n",
       "      <td>310824</td>\n",
       "      <td>3312</td>\n",
       "      <td>0</td>\n",
       "      <td>0</td>\n",
       "      <td>1</td>\n",
       "      <td>0</td>\n",
       "      <td>0</td>\n",
       "      <td>4.867534</td>\n",
       "      <td>8.105308</td>\n",
       "      <td>4.795791</td>\n",
       "      <td>34.496377</td>\n",
       "      <td>3.333333</td>\n",
       "      <td>0.2</td>\n",
       "    </tr>\n",
       "    <tr>\n",
       "      <td>4</td>\n",
       "      <td>1</td>\n",
       "      <td>142</td>\n",
       "      <td>75</td>\n",
       "      <td>23</td>\n",
       "      <td>79</td>\n",
       "      <td>5368307</td>\n",
       "      <td>5367467</td>\n",
       "      <td>862</td>\n",
       "      <td>0</td>\n",
       "      <td>0</td>\n",
       "      <td>0</td>\n",
       "      <td>0</td>\n",
       "      <td>0</td>\n",
       "      <td>4.955827</td>\n",
       "      <td>6.759255</td>\n",
       "      <td>4.043051</td>\n",
       "      <td>28.982753</td>\n",
       "      <td>1.893333</td>\n",
       "      <td>0.0</td>\n",
       "    </tr>\n",
       "  </tbody>\n",
       "</table>\n",
       "</div>"
      ],
      "text/plain": [
       "   grade_A_Component_1  max_luminosity  thickness  xmin  xmax      ymin  \\\n",
       "0                    1             123         65    33    54   1646439   \n",
       "1                    0             158         99   125   132    189874   \n",
       "2                    0             120         35    64    75  12986873   \n",
       "3                    0             130         39    57   177    309634   \n",
       "4                    1             142         75    23    79   5368307   \n",
       "\n",
       "       ymax  pixel_area  x_component_1  x_component_2  x_component_3  \\\n",
       "0   1646893         632              0              1              0   \n",
       "1    189529         421              0              0              0   \n",
       "2  12986862         272              1              0              0   \n",
       "3    310824        3312              0              0              1   \n",
       "4   5367467         862              0              0              0   \n",
       "\n",
       "   x_component_4  x_component_5  log_max_luminosity  log_pixel_area  \\\n",
       "0              0              0            4.812184        6.448889   \n",
       "1              0              0            5.062595        6.042633   \n",
       "2              0              0            4.787492        5.605802   \n",
       "3              0              0            4.867534        8.105308   \n",
       "4              0              0            4.955827        6.759255   \n",
       "\n",
       "   log_xrange  sqrt_yrange  max_luminosity/thickness  avg_x_component  \n",
       "0    3.091042    21.307276                  1.892308              0.2  \n",
       "1    2.079442    18.574176                  1.595960              0.0  \n",
       "2    2.484907     3.316625                  3.428571              0.2  \n",
       "3    4.795791    34.496377                  3.333333              0.2  \n",
       "4    4.043051    28.982753                  1.893333              0.0  "
      ]
     },
     "execution_count": 339,
     "metadata": {},
     "output_type": "execute_result"
    }
   ],
   "source": [
    "test.head()"
   ]
  },
  {
   "cell_type": "code",
   "execution_count": 340,
   "metadata": {},
   "outputs": [
    {
     "data": {
      "text/html": [
       "<div>\n",
       "<style scoped>\n",
       "    .dataframe tbody tr th:only-of-type {\n",
       "        vertical-align: middle;\n",
       "    }\n",
       "\n",
       "    .dataframe tbody tr th {\n",
       "        vertical-align: top;\n",
       "    }\n",
       "\n",
       "    .dataframe thead th {\n",
       "        text-align: right;\n",
       "    }\n",
       "</style>\n",
       "<table border=\"1\" class=\"dataframe\">\n",
       "  <thead>\n",
       "    <tr style=\"text-align: right;\">\n",
       "      <th></th>\n",
       "      <th>grade_A_Component_1</th>\n",
       "      <th>max_luminosity</th>\n",
       "      <th>thickness</th>\n",
       "      <th>xmin</th>\n",
       "      <th>xmax</th>\n",
       "      <th>ymin</th>\n",
       "      <th>ymax</th>\n",
       "      <th>pixel_area</th>\n",
       "      <th>x_component_1</th>\n",
       "      <th>x_component_2</th>\n",
       "      <th>x_component_3</th>\n",
       "      <th>x_component_4</th>\n",
       "      <th>x_component_5</th>\n",
       "      <th>log_max_luminosity</th>\n",
       "      <th>log_pixel_area</th>\n",
       "      <th>log_xrange</th>\n",
       "      <th>sqrt_yrange</th>\n",
       "      <th>max_luminosity/thickness</th>\n",
       "      <th>avg_x_component</th>\n",
       "    </tr>\n",
       "  </thead>\n",
       "  <tbody>\n",
       "    <tr>\n",
       "      <td>0</td>\n",
       "      <td>0</td>\n",
       "      <td>150</td>\n",
       "      <td>36</td>\n",
       "      <td>144</td>\n",
       "      <td>172</td>\n",
       "      <td>947225</td>\n",
       "      <td>947332</td>\n",
       "      <td>439</td>\n",
       "      <td>0</td>\n",
       "      <td>0</td>\n",
       "      <td>1</td>\n",
       "      <td>0</td>\n",
       "      <td>0</td>\n",
       "      <td>5.010635</td>\n",
       "      <td>6.084499</td>\n",
       "      <td>3.367296</td>\n",
       "      <td>10.344080</td>\n",
       "      <td>4.166667</td>\n",
       "      <td>0.2</td>\n",
       "    </tr>\n",
       "    <tr>\n",
       "      <td>1</td>\n",
       "      <td>1</td>\n",
       "      <td>134</td>\n",
       "      <td>55</td>\n",
       "      <td>1144</td>\n",
       "      <td>1152</td>\n",
       "      <td>2379058</td>\n",
       "      <td>2379624</td>\n",
       "      <td>329</td>\n",
       "      <td>1</td>\n",
       "      <td>0</td>\n",
       "      <td>0</td>\n",
       "      <td>0</td>\n",
       "      <td>0</td>\n",
       "      <td>4.897840</td>\n",
       "      <td>5.796058</td>\n",
       "      <td>2.197225</td>\n",
       "      <td>23.790755</td>\n",
       "      <td>2.436364</td>\n",
       "      <td>0.2</td>\n",
       "    </tr>\n",
       "    <tr>\n",
       "      <td>2</td>\n",
       "      <td>1</td>\n",
       "      <td>135</td>\n",
       "      <td>65</td>\n",
       "      <td>950</td>\n",
       "      <td>974</td>\n",
       "      <td>1038442</td>\n",
       "      <td>1036754</td>\n",
       "      <td>300</td>\n",
       "      <td>0</td>\n",
       "      <td>0</td>\n",
       "      <td>0</td>\n",
       "      <td>0</td>\n",
       "      <td>0</td>\n",
       "      <td>4.905275</td>\n",
       "      <td>5.703782</td>\n",
       "      <td>3.218876</td>\n",
       "      <td>41.085277</td>\n",
       "      <td>2.076923</td>\n",
       "      <td>0.0</td>\n",
       "    </tr>\n",
       "    <tr>\n",
       "      <td>3</td>\n",
       "      <td>0</td>\n",
       "      <td>123</td>\n",
       "      <td>35</td>\n",
       "      <td>41</td>\n",
       "      <td>220</td>\n",
       "      <td>1705580</td>\n",
       "      <td>1705604</td>\n",
       "      <td>6803</td>\n",
       "      <td>0</td>\n",
       "      <td>0</td>\n",
       "      <td>1</td>\n",
       "      <td>0</td>\n",
       "      <td>0</td>\n",
       "      <td>4.812184</td>\n",
       "      <td>8.825119</td>\n",
       "      <td>5.192957</td>\n",
       "      <td>4.898979</td>\n",
       "      <td>3.514286</td>\n",
       "      <td>0.2</td>\n",
       "    </tr>\n",
       "    <tr>\n",
       "      <td>4</td>\n",
       "      <td>1</td>\n",
       "      <td>138</td>\n",
       "      <td>69</td>\n",
       "      <td>462</td>\n",
       "      <td>466</td>\n",
       "      <td>1088124</td>\n",
       "      <td>1086579</td>\n",
       "      <td>251</td>\n",
       "      <td>0</td>\n",
       "      <td>0</td>\n",
       "      <td>0</td>\n",
       "      <td>0</td>\n",
       "      <td>0</td>\n",
       "      <td>4.927254</td>\n",
       "      <td>5.525453</td>\n",
       "      <td>1.609438</td>\n",
       "      <td>39.306488</td>\n",
       "      <td>2.000000</td>\n",
       "      <td>0.0</td>\n",
       "    </tr>\n",
       "  </tbody>\n",
       "</table>\n",
       "</div>"
      ],
      "text/plain": [
       "   grade_A_Component_1  max_luminosity  thickness  xmin  xmax     ymin  \\\n",
       "0                    0             150         36   144   172   947225   \n",
       "1                    1             134         55  1144  1152  2379058   \n",
       "2                    1             135         65   950   974  1038442   \n",
       "3                    0             123         35    41   220  1705580   \n",
       "4                    1             138         69   462   466  1088124   \n",
       "\n",
       "      ymax  pixel_area  x_component_1  x_component_2  x_component_3  \\\n",
       "0   947332         439              0              0              1   \n",
       "1  2379624         329              1              0              0   \n",
       "2  1036754         300              0              0              0   \n",
       "3  1705604        6803              0              0              1   \n",
       "4  1086579         251              0              0              0   \n",
       "\n",
       "   x_component_4  x_component_5  log_max_luminosity  log_pixel_area  \\\n",
       "0              0              0            5.010635        6.084499   \n",
       "1              0              0            4.897840        5.796058   \n",
       "2              0              0            4.905275        5.703782   \n",
       "3              0              0            4.812184        8.825119   \n",
       "4              0              0            4.927254        5.525453   \n",
       "\n",
       "   log_xrange  sqrt_yrange  max_luminosity/thickness  avg_x_component  \n",
       "0    3.367296    10.344080                  4.166667              0.2  \n",
       "1    2.197225    23.790755                  2.436364              0.2  \n",
       "2    3.218876    41.085277                  2.076923              0.0  \n",
       "3    5.192957     4.898979                  3.514286              0.2  \n",
       "4    1.609438    39.306488                  2.000000              0.0  "
      ]
     },
     "execution_count": 340,
     "metadata": {},
     "output_type": "execute_result"
    }
   ],
   "source": [
    "data.head()"
   ]
  },
  {
   "cell_type": "code",
   "execution_count": 341,
   "metadata": {},
   "outputs": [],
   "source": [
    "scaler = StandardScaler()\n",
    "\n",
    "train = scaler.fit_transform(data.values)\n",
    "test = scaler.transform(test.values)"
   ]
  },
  {
   "cell_type": "code",
   "execution_count": 342,
   "metadata": {},
   "outputs": [],
   "source": [
    "bc = BaggingClassifier(base_estimator=ExtraTreesClassifier(n_estimators=80, max_features=7), random_state=0)"
   ]
  },
  {
   "cell_type": "code",
   "execution_count": 349,
   "metadata": {},
   "outputs": [],
   "source": [
    "scores = cross_val_score(bc, train, target, cv = StratifiedKFold(n_splits=5,shuffle = True), scoring = 'neg_log_loss')"
   ]
  },
  {
   "cell_type": "code",
   "execution_count": 350,
   "metadata": {},
   "outputs": [
    {
     "data": {
      "text/plain": [
       "-0.27440101190632554"
      ]
     },
     "execution_count": 350,
     "metadata": {},
     "output_type": "execute_result"
    }
   ],
   "source": [
    "scores.mean()"
   ]
  },
  {
   "cell_type": "code",
   "execution_count": 351,
   "metadata": {},
   "outputs": [
    {
     "data": {
      "text/plain": [
       "BaggingClassifier(base_estimator=ExtraTreesClassifier(bootstrap=False,\n",
       "                                                      ccp_alpha=0.0,\n",
       "                                                      class_weight=None,\n",
       "                                                      criterion='gini',\n",
       "                                                      max_depth=None,\n",
       "                                                      max_features=7,\n",
       "                                                      max_leaf_nodes=None,\n",
       "                                                      max_samples=None,\n",
       "                                                      min_impurity_decrease=0.0,\n",
       "                                                      min_impurity_split=None,\n",
       "                                                      min_samples_leaf=1,\n",
       "                                                      min_samples_split=2,\n",
       "                                                      min_weight_fraction_leaf=0.0,\n",
       "                                                      n_estimators=80,\n",
       "                                                      n_jobs=None,\n",
       "                                                      oob_score=False,\n",
       "                                                      random_state=None,\n",
       "                                                      verbose=0,\n",
       "                                                      warm_start=False),\n",
       "                  bootstrap=True, bootstrap_features=False, max_features=1.0,\n",
       "                  max_samples=1.0, n_estimators=10, n_jobs=None,\n",
       "                  oob_score=False, random_state=0, verbose=0, warm_start=False)"
      ]
     },
     "execution_count": 351,
     "metadata": {},
     "output_type": "execute_result"
    }
   ],
   "source": [
    "bc.fit(train, target)"
   ]
  },
  {
   "cell_type": "code",
   "execution_count": 353,
   "metadata": {},
   "outputs": [],
   "source": [
    "preds = bc.predict_proba(test)"
   ]
  },
  {
   "cell_type": "code",
   "execution_count": 354,
   "metadata": {},
   "outputs": [
    {
     "data": {
      "text/plain": [
       "array([1.     , 0.1425 , 1.     , 1.     , 0.5325 , 0.9625 , 1.     ,\n",
       "       1.     , 0.99375, 0.2725 , 0.20625, 1.     , 0.23625, 0.60375,\n",
       "       1.     , 0.2425 , 1.     , 0.42125, 0.68375, 0.54   , 0.48   ,\n",
       "       0.615  , 1.     , 0.72625, 1.     , 0.13375, 1.     , 1.     ,\n",
       "       0.07   , 0.99875, 1.     , 0.495  , 0.17875, 0.2275 , 0.41125,\n",
       "       0.255  , 0.0375 , 0.80125, 0.09875, 0.4725 , 0.995  , 0.1125 ,\n",
       "       1.     , 0.46625, 0.8225 , 0.2775 , 0.72   , 0.5175 , 0.25125,\n",
       "       0.51875, 0.9975 , 0.58375, 0.42875, 0.01625, 1.     , 0.1475 ,\n",
       "       0.4575 , 0.2    , 1.     , 1.     , 1.     , 0.18625, 0.23875,\n",
       "       0.04   , 0.20625, 1.     , 1.     , 0.02625, 0.22   , 0.70125,\n",
       "       0.7225 , 0.25   , 1.     , 0.62125, 0.21   , 1.     , 0.55125,\n",
       "       1.     , 0.19   , 0.49625, 0.2625 , 0.50375, 1.     , 1.     ,\n",
       "       0.81875, 0.48375, 1.     , 0.58875, 0.0275 , 0.61375, 0.60875,\n",
       "       1.     , 1.     , 0.15625, 1.     , 0.64375, 0.81   , 1.     ,\n",
       "       1.     , 0.995  , 0.14375, 1.     , 0.98375, 1.     , 1.     ,\n",
       "       0.99875, 0.9975 , 1.     , 0.8375 , 1.     , 0.20375, 1.     ,\n",
       "       0.5325 , 1.     , 1.     , 1.     , 0.43   , 1.     , 0.25   ,\n",
       "       0.52   , 0.16625, 0.395  , 1.     , 0.535  , 0.42625, 0.72375,\n",
       "       1.     , 1.     , 0.375  , 0.1975 , 0.37625, 1.     , 0.15875,\n",
       "       1.     , 0.655  , 0.07625, 1.     , 0.1925 , 0.99625, 0.655  ,\n",
       "       1.     , 1.     , 0.43375, 0.0725 , 1.     , 0.1425 , 1.     ,\n",
       "       0.8025 , 0.1975 , 1.     , 0.3125 , 0.04625, 0.11875, 1.     ,\n",
       "       1.     , 1.     , 0.305  , 0.46   , 1.     , 1.     , 0.4775 ,\n",
       "       1.     , 1.     , 1.     , 1.     , 1.     , 0.28125, 0.325  ,\n",
       "       0.21625, 0.2625 , 0.04875, 0.9775 , 0.34125, 1.     , 1.     ,\n",
       "       0.41125, 0.695  , 1.     , 0.99875, 0.125  , 0.25375, 0.04375,\n",
       "       1.     , 1.     , 1.     , 0.54875, 0.10625, 0.3525 , 1.     ,\n",
       "       0.9975 , 0.85375, 0.6725 , 0.73125, 1.     , 0.73   , 1.     ,\n",
       "       0.2025 , 1.     , 0.22125, 0.8    , 0.82375, 0.55375, 0.22875,\n",
       "       0.38625, 0.2175 , 0.29   , 0.1    , 1.     , 0.35625, 0.58625,\n",
       "       1.     , 0.16125, 0.17375, 1.     , 1.     , 1.     , 1.     ,\n",
       "       0.58625, 0.49125, 0.28625, 0.69125, 0.755  , 1.     , 1.     ,\n",
       "       0.23875, 1.     , 0.23625, 0.46375, 0.2475 , 0.46375, 1.     ,\n",
       "       1.     , 1.     , 0.2925 , 0.355  , 1.     , 0.47375, 0.69375,\n",
       "       0.15625, 0.375  , 0.0875 , 1.     , 0.425  , 0.5375 , 0.9975 ,\n",
       "       1.     , 0.99375, 0.43125, 1.     , 0.185  , 0.10375, 0.99875,\n",
       "       1.     , 0.37125, 0.0175 , 0.535  , 0.16875, 0.26625, 1.     ,\n",
       "       1.     , 0.02125, 0.99875, 0.705  , 0.48   , 0.02875, 0.45625,\n",
       "       1.     , 0.47375, 1.     , 0.48125, 0.145  , 0.99875, 0.09375,\n",
       "       0.425  , 0.315  , 0.29125, 1.     , 0.745  , 1.     , 0.295  ,\n",
       "       0.11375, 1.     , 0.33   , 1.     , 0.7575 , 0.455  , 0.43   ,\n",
       "       1.     , 0.2225 , 0.5675 , 0.27625, 1.     , 1.     , 0.48625,\n",
       "       0.47125, 1.     , 1.     , 1.     , 0.205  , 0.4875 , 0.0325 ,\n",
       "       0.46875, 0.5025 , 0.40375, 0.6925 , 1.     , 0.25   , 0.79875,\n",
       "       0.05375, 1.     , 1.     , 1.     , 1.     , 1.     , 1.     ,\n",
       "       1.     , 1.     , 1.     , 0.775  , 1.     , 1.     , 0.665  ,\n",
       "       0.99875, 0.9975 , 0.02375, 0.10375, 0.50625, 0.37125, 0.81875,\n",
       "       1.     , 0.25375, 1.     , 0.34   , 1.     , 0.85375, 0.555  ,\n",
       "       1.     , 1.     , 1.     , 0.2675 , 1.     , 1.     , 0.055  ,\n",
       "       0.84375, 0.2125 , 0.03375, 0.38125, 0.19375, 1.     , 1.     ,\n",
       "       1.     , 0.69125, 0.1975 , 0.24125, 1.     , 0.24875, 1.     ,\n",
       "       0.83625, 0.15625, 1.     , 1.     , 0.5    , 0.435  , 0.07   ,\n",
       "       0.99375, 1.     , 1.     , 1.     , 0.78125, 1.     , 0.39125,\n",
       "       0.1125 , 0.6325 , 0.5875 , 0.40875, 1.     , 0.335  , 1.     ,\n",
       "       1.     , 0.69   , 1.     , 0.47875, 1.     , 1.     , 0.63875,\n",
       "       1.     , 0.24375, 0.99875, 0.67125, 0.99875, 0.99875, 0.585  ,\n",
       "       0.1525 , 0.24875, 1.     , 0.19125, 0.08   , 1.     , 0.63   ,\n",
       "       1.     , 0.5775 , 0.54625, 1.     , 1.     , 0.99875, 0.46375,\n",
       "       0.44   , 0.23875, 0.405  , 0.02875, 0.65625, 0.1125 , 1.     ,\n",
       "       0.99875, 1.     , 1.     , 0.92625, 1.     , 0.295  , 1.     ,\n",
       "       0.03125, 1.     , 0.74   , 0.78375, 0.685  , 0.48125, 1.     ,\n",
       "       1.     , 0.395  , 1.     , 1.     , 0.3825 , 1.     , 0.21125,\n",
       "       0.1975 , 1.     , 0.6175 , 1.     , 0.96875, 1.     , 0.50875,\n",
       "       0.09875, 0.1175 , 0.76375, 1.     , 1.     , 1.     , 1.     ,\n",
       "       0.20875, 1.     , 1.     , 1.     , 1.     , 0.99875, 0.6675 ,\n",
       "       1.     , 0.11   , 1.     , 1.     , 1.     , 1.     , 1.     ,\n",
       "       0.47375, 0.19125, 1.     , 0.1175 , 0.29875, 1.     , 1.     ,\n",
       "       0.60375, 0.14875, 0.9975 , 1.     , 0.2875 , 1.     , 1.     ,\n",
       "       1.     , 0.03375, 0.115  , 0.38375, 1.     , 0.1375 , 1.     ,\n",
       "       1.     , 1.     , 1.     , 0.09125, 1.     , 0.09875, 0.99875,\n",
       "       0.985  , 0.0825 , 0.395  , 0.68375, 1.     , 1.     , 0.9975 ,\n",
       "       0.18375, 0.39375, 0.20375, 0.35375, 0.02   , 0.345  , 0.59   ,\n",
       "       1.     , 0.61625, 0.99875, 0.685  , 0.49375, 1.     , 0.46   ,\n",
       "       0.41375, 1.     , 0.215  , 1.     , 0.31875, 0.26   , 0.9875 ,\n",
       "       0.88125, 0.65625, 0.25125, 0.05625, 0.285  , 0.905  , 0.99875,\n",
       "       1.     , 1.     , 0.71125, 0.99   , 0.70625, 0.29625, 0.7125 ,\n",
       "       0.64375, 0.1725 , 1.     , 1.     , 0.5175 , 0.39375, 1.     ,\n",
       "       0.275  , 1.     , 1.     , 1.     , 1.     , 0.37   , 1.     ,\n",
       "       1.     , 1.     , 1.     , 1.     , 1.     , 0.02875, 0.42625,\n",
       "       0.24875, 1.     , 0.21125, 0.195  , 0.6175 , 1.     , 0.0425 ,\n",
       "       0.99875, 0.25   , 0.13875, 1.     , 0.6275 , 1.     , 1.     ,\n",
       "       0.37375, 0.51625, 1.     , 0.395  , 0.4025 , 0.345  , 1.     ,\n",
       "       0.5625 , 0.0725 , 1.     , 0.59125, 0.7675 , 0.99875, 1.     ,\n",
       "       0.98125, 1.     ])"
      ]
     },
     "execution_count": 354,
     "metadata": {},
     "output_type": "execute_result"
    }
   ],
   "source": [
    "preds[:,0]"
   ]
  },
  {
   "cell_type": "code",
   "execution_count": 355,
   "metadata": {},
   "outputs": [],
   "source": [
    "sub = pd.read_excel('Sample_Submission.xlsx')"
   ]
  },
  {
   "cell_type": "code",
   "execution_count": 356,
   "metadata": {},
   "outputs": [
    {
     "data": {
      "text/html": [
       "<div>\n",
       "<style scoped>\n",
       "    .dataframe tbody tr th:only-of-type {\n",
       "        vertical-align: middle;\n",
       "    }\n",
       "\n",
       "    .dataframe tbody tr th {\n",
       "        vertical-align: top;\n",
       "    }\n",
       "\n",
       "    .dataframe thead th {\n",
       "        text-align: right;\n",
       "    }\n",
       "</style>\n",
       "<table border=\"1\" class=\"dataframe\">\n",
       "  <thead>\n",
       "    <tr style=\"text-align: right;\">\n",
       "      <th></th>\n",
       "      <th>1</th>\n",
       "      <th>2</th>\n",
       "    </tr>\n",
       "  </thead>\n",
       "  <tbody>\n",
       "    <tr>\n",
       "      <td>0</td>\n",
       "      <td>0.600493</td>\n",
       "      <td>0.399507</td>\n",
       "    </tr>\n",
       "    <tr>\n",
       "      <td>1</td>\n",
       "      <td>0.532010</td>\n",
       "      <td>0.467990</td>\n",
       "    </tr>\n",
       "    <tr>\n",
       "      <td>2</td>\n",
       "      <td>0.892149</td>\n",
       "      <td>0.107851</td>\n",
       "    </tr>\n",
       "    <tr>\n",
       "      <td>3</td>\n",
       "      <td>0.694834</td>\n",
       "      <td>0.305166</td>\n",
       "    </tr>\n",
       "    <tr>\n",
       "      <td>4</td>\n",
       "      <td>0.740557</td>\n",
       "      <td>0.259443</td>\n",
       "    </tr>\n",
       "  </tbody>\n",
       "</table>\n",
       "</div>"
      ],
      "text/plain": [
       "          1         2\n",
       "0  0.600493  0.399507\n",
       "1  0.532010  0.467990\n",
       "2  0.892149  0.107851\n",
       "3  0.694834  0.305166\n",
       "4  0.740557  0.259443"
      ]
     },
     "execution_count": 356,
     "metadata": {},
     "output_type": "execute_result"
    }
   ],
   "source": [
    "sub.head()"
   ]
  },
  {
   "cell_type": "code",
   "execution_count": 357,
   "metadata": {},
   "outputs": [],
   "source": [
    "sub[1] = preds[:,0]"
   ]
  },
  {
   "cell_type": "code",
   "execution_count": 358,
   "metadata": {},
   "outputs": [],
   "source": [
    "sub[2] = preds[:,1]"
   ]
  },
  {
   "cell_type": "code",
   "execution_count": 359,
   "metadata": {},
   "outputs": [],
   "source": [
    "sub.to_excel('baseline.xlsx', index=False)"
   ]
  },
  {
   "cell_type": "code",
   "execution_count": null,
   "metadata": {},
   "outputs": [],
   "source": []
  }
 ],
 "metadata": {
  "kernelspec": {
   "display_name": "Python 3",
   "language": "python",
   "name": "python3"
  },
  "language_info": {
   "codemirror_mode": {
    "name": "ipython",
    "version": 3
   },
   "file_extension": ".py",
   "mimetype": "text/x-python",
   "name": "python",
   "nbconvert_exporter": "python",
   "pygments_lexer": "ipython3",
   "version": "3.7.4"
  }
 },
 "nbformat": 4,
 "nbformat_minor": 4
}
